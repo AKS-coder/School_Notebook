{
 "cells": [
  {
   "cell_type": "markdown",
   "metadata": {},
   "source": [
    "# Fundamentals of Programming(ST0502)\n"
   ]
  },
  {
   "cell_type": "markdown",
   "metadata": {},
   "source": [
    "This notebook consist of everything that is being taught in the module ST0502."
   ]
  },
  {
   "cell_type": "markdown",
   "metadata": {},
   "source": [
    "### Module Contents"
   ]
  },
  {
   "cell_type": "code",
   "execution_count": 1,
   "metadata": {},
   "outputs": [
    {
     "name": "stdout",
     "output_type": "stream",
     "text": [
      "###\tTABLE OF CONTENTS\t###\n",
      "\n",
      "Topic 01 : Problem Solving Skills\n",
      "Topic 02 : Intro to Computers, Programs & Javascript\n",
      "Topic 03 : Data Types & Operators\n",
      "Topic 04 : Selections\n",
      "Topic 05 : Repetitions\n",
      "Topic 06 : Arrays\n",
      "Topic 07 : Functions\n",
      "Topic 08 : Objects & Classes\n"
     ]
    }
   ],
   "source": [
    "%run -i contents.py"
   ]
  },
  {
   "cell_type": "markdown",
   "metadata": {},
   "source": [
    "# Topic 01 Problem Solving Skills"
   ]
  },
  {
   "cell_type": "markdown",
   "metadata": {},
   "source": [
    "<h4>Objectives:</h4>\n",
    "To specify the problem requirements and use flowchart/ Pseudo-code to solve the problem"
   ]
  },
  {
   "cell_type": "markdown",
   "metadata": {},
   "source": [
    "<h3>Process of Problem Solving</h3>\n",
    "<img src=\"img/Process_of_Problem_solving.png\">"
   ]
  },
  {
   "cell_type": "markdown",
   "metadata": {},
   "source": [
    "<h3>Analysing the problem</h3>\n",
    "<ul>\n",
    "    <li>Thoroughly Understand the Problem</li>\n",
    "    <li>Understand the problem requirements</li>\n",
    "    <li>Divide complex problems into sub-problems</li>"
   ]
  },
  {
   "cell_type": "markdown",
   "metadata": {},
   "source": [
    "<h3>Implementing the Algorithm</h3>\n",
    "    <ul>\n",
    "        <li><strong>What is an Algorithm?</strong>\n",
    "            <p>Informally: An Algorithm is a set of steps that defined how a task is performed.</p>\n",
    "            <p>Formally: An Algorithm is an <u>ordered set</u> of <u>unambiguous executable steps</u>, defining a <u>terminating process</u>.</p>\n",
    "        </li>\n",
    "        <li><b>Algorithms can be represented in many ways such as:</b> \n",
    "            <ul>\n",
    "                <li>Flowchart</li>\n",
    "                <li>Pseudo-Code</li>\n",
    "            </ul>\n",
    "        </li>\n",
    "    </ul>\n"
   ]
  },
  {
   "cell_type": "markdown",
   "metadata": {},
   "source": [
    "<h3>Maintenance</h3>\n",
    "    <ul>\n",
    "        <li>Maintenance is when you add new functionality or change existing functionality.</li>\n",
    "        <li>It is a good practice to keep comments and constant indentations in your code for easier future Maintenance.</li>\n",
    "        <li>Consistency is Key</li>\n",
    "    </ul>"
   ]
  },
  {
   "cell_type": "markdown",
   "metadata": {},
   "source": [
    "<hr>"
   ]
  },
  {
   "cell_type": "markdown",
   "metadata": {},
   "source": [
    "<h2>Flowchart</h2>\n",
    "    <ul>\n",
    "        <li><strong>What is a Flowchart?</strong>\n",
    "            <p>A Diagram that depicts the flow of a program.</p>\n",
    "            <p>It shows the Logic of an Algorithm.</p>\n",
    "            <p>Emphasizes on the Individual Steps and their Interconnections.</p>\n",
    "        </li>\n",
    "        <li>When drawing a flowchart, it is important to think of: \n",
    "            <ol>\n",
    "                <li>Input</li>\n",
    "                <li>Process</li>\n",
    "                <li>Output</li>\n",
    "            </ol>\n",
    "        </li>\n",
    "        <li>All Flowcharts must have <strong>START</strong> and <strong>END</strong></li>\n",
    "    </ul>"
   ]
  },
  {
   "cell_type": "markdown",
   "metadata": {},
   "source": [
    "![###Basic Flowchart Symbols](img/flowchart_symbols.png \"Title\")"
   ]
  },
  {
   "cell_type": "markdown",
   "metadata": {},
   "source": [
    "<h3><u>3 Flowchart Structures:</u></h3>\n",
    "    <ul>\n",
    "        <li>\n",
    "            <h4>Sequence Structure</h4>\n",
    "            <ul>\n",
    "                <li>A series of actions performed in a sequence.</li>\n",
    "            </ul>\n",
    "        </li>\n",
    "        <li>\n",
    "            <h4>Decision/Selection Structure</h4>\n",
    "            <ul>\n",
    "                <li>1 of 2 possible actions taken, depending on the condition given.</li>\n",
    "                <img src=\"img/decision_logic.png\">\n",
    "            </ul>\n",
    "        </li>\n",
    "        <li>\n",
    "            <h4>Repetition/Loop Structure</h4>\n",
    "            <ul>\n",
    "                <li>A repetition structure represents part of the program that repeats. Also commonly known as a Loop.</li>\n",
    "                <li>It tests a condition, and if the condition exists, it performs an action. Then it tests the condition again, and repeats the action if the condition still exists until the condition no longer exists.</li>\n",
    "                <li>Actions performed by a repetition structure must eventually terminate. Else, it will be known as an Infinite-Loop.</li>\n",
    "            </ul>\n",
    "        </li>\n",
    "    </ul>"
   ]
  },
  {
   "cell_type": "markdown",
   "metadata": {},
   "source": [
    "<hr>"
   ]
  },
  {
   "cell_type": "markdown",
   "metadata": {},
   "source": [
    "<h3>Pseudo-Code</h3>\n",
    "<ul>\n",
    "    <li>Pseudocode is \"Halfway\" between English and programming language.</li>\n",
    "    <li>It is written as a combination of English and programming logic.</li>\n",
    "    <li>It is a description of a process in details, not necessarily in full sentences.</li>\n",
    "    <li>Pseudo-Code should provide enough information such that anyone can understand and execute the instructions.</li>\n",
    "    </ul>\n",
    "\n",
    "<h4>S<u>uggested Rules</u></h4>\n",
    "<ol>\n",
    "    <li>1 Statement per line</li>\n",
    "    <li>Capitalize Keywords</li>\n",
    "    <li>Indent to show hierarchy</li>\n",
    "    <li>End multiline structures</li>\n",
    "    <li>Avoid specific Programming Syntax</li>\n",
    "</ol>"
   ]
  },
  {
   "cell_type": "markdown",
   "metadata": {},
   "source": [
    "<hr>"
   ]
  },
  {
   "cell_type": "markdown",
   "metadata": {},
   "source": [
    "# Topic 02 Intro to Computers, Programs & Javascript"
   ]
  },
  {
   "cell_type": "markdown",
   "metadata": {},
   "source": [
    "<h3>Objectives</h3>\n",
    "    <ul>\n",
    "        <li>To distinguish between API, IDE, JDk</li>\n",
    "        <li>To write a simple Javascript Program</li>\n",
    "        <li>To know the Basic Syntax of Javascript</li>\n",
    "    </ul>"
   ]
  },
  {
   "cell_type": "markdown",
   "metadata": {},
   "source": [
    "<h3>What is a Computer Program?</h3>\n",
    "    <p>A computer program is written using programming languages to give instructions to the computer.</p>"
   ]
  },
  {
   "cell_type": "markdown",
   "metadata": {},
   "source": [
    "<h3><u>Examples of Programming Languages:</u></h3>\n",
    "    <ul>\n",
    "        <li>\n",
    "            <h4>Machine Language</h4>\n",
    "            <ul>\n",
    "                <li>They are in the form of Binary Code(1's and 0's)</li>\n",
    "                <li>Different for different types of computers</li>\n",
    "                <li>Highly Difficult for humans to read and modify</li>\n",
    "            </ul>\n",
    "        </li>\n",
    "        <li>\n",
    "            <h4>Assembly Language(Low level Language)</h4>\n",
    "            <ul>\n",
    "                <li>Developed to make programming easy</li>\n",
    "                <li>Computers cannot understand assembly language</li>\n",
    "                <li>An <b>Assembler</b> is needed to convert assembly language program into machine code</li>\n",
    "            </ul>\n",
    "        </li>\n",
    "        <li>\n",
    "            <h4>High-Level Language</h4>\n",
    "            <ul>\n",
    "                <li>Is English-like and easy to learn and program</li>\n",
    "                <li>Languages like Python, Ruby, Javascript... are High-level Languages</li>\n",
    "            </ul>\n",
    "        </li>\n",
    "    </ul>"
   ]
  },
  {
   "cell_type": "markdown",
   "metadata": {},
   "source": [
    "<h3>Compiling Source Codes</h3>\n",
    "    <p>Source Codes are program written in a High-level Programming language that the computer itself cannot understand. A small computer program called \"An intepreter/compiler\" is needed to help translate these source codes into instructions that can be understood by the computer.</p>\n"
   ]
  },
  {
   "cell_type": "markdown",
   "metadata": {},
   "source": [
    "# JAVASCRIPT\n"
   ]
  },
  {
   "cell_type": "markdown",
   "metadata": {},
   "source": [
    "<h3><u>Applications</u></h3>\n",
    "    <ul>\n",
    "        <li><h4>Web Applications (angularJS)</h4></li>\n",
    "        <li>\n",
    "            <h4>Server Application (node.js)</h4>\n",
    "            <p>Open-Sourced, cross-platform Javascript run-time environment.</p>\n",
    "        </li>\n",
    "        <li><h4>Mobile Applications (Apache Cordova)</h4></li>\n",
    "        <li><h4>Desktop Application (Electron, AppJS)</h4></li>\n",
    "    </ul>"
   ]
  },
  {
   "cell_type": "markdown",
   "metadata": {},
   "source": [
    "<p>\n",
    "    We use Integrated Development Environment(IDE) tools such as Microsoft VScode, Xcode, Pycharm to write, build, test and debug our computer programs.\n",
    "</p>"
   ]
  },
  {
   "cell_type": "markdown",
   "metadata": {},
   "source": [
    "******** JAVASCRIPT GUIDE ********"
   ]
  },
  {
   "cell_type": "markdown",
   "metadata": {},
   "source": [
    "<h3>Comments</h3>\n",
    "    <ul>\n",
    "        <li>Make programs easier to read and easier to work on</li>\n",
    "        <li>Ignored by the compiler and does not affect the program output</li>\n",
    "    </ul>"
   ]
  },
  {
   "cell_type": "markdown",
   "metadata": {},
   "source": [
    "<h4><u>Example of Single-Line comments:</u></h4>\n",
    "<p> Single Line comments are created using (//) in front of the line of code you want to comment out.\n",
    "    </p>"
   ]
  },
  {
   "cell_type": "code",
   "execution_count": 2,
   "metadata": {},
   "outputs": [
    {
     "data": {
      "application/javascript": [
       "\n",
       "//This is a single line comment. Only this line is ignored\n",
       "alert(\"This will be compiled instead\")\n",
       "element.text(\"This will be compiled as well\")\n"
      ],
      "text/plain": [
       "<IPython.core.display.Javascript object>"
      ]
     },
     "metadata": {},
     "output_type": "display_data"
    }
   ],
   "source": [
    "%%js\n",
    "\n",
    "//This is a single line comment. Only this line is ignored\n",
    "alert(\"This will be compiled instead\")\n",
    "element.text(\"This will be compiled as well\")"
   ]
  },
  {
   "cell_type": "markdown",
   "metadata": {},
   "source": [
    "<h4><u>Example of Multi-Line comments</u></h4>\n",
    "<p> Multi-Line comments are enclosed in a pair of (/*) and (*/). Any lines in between these 2 symbols will not be compiled.\n",
    "    </p>"
   ]
  },
  {
   "cell_type": "code",
   "execution_count": 3,
   "metadata": {},
   "outputs": [
    {
     "data": {
      "application/javascript": [
       "\n",
       "/* This is a multi-line comment.\n",
       "alert(\"This whole chunk will not be compiled.\")\n",
       "element.text(\"The compiler will ignore all of these text\") */\n",
       "\n",
       "alert(\"This will be compiled instead\")\n",
       "element.text(\"This will be compiled as well\")\n"
      ],
      "text/plain": [
       "<IPython.core.display.Javascript object>"
      ]
     },
     "metadata": {},
     "output_type": "display_data"
    }
   ],
   "source": [
    "%%js\n",
    "\n",
    "/* This is a multi-line comment.\n",
    "alert(\"This whole chunk will not be compiled.\")\n",
    "element.text(\"The compiler will ignore all of these text\") */\n",
    "\n",
    "alert(\"This will be compiled instead\")\n",
    "element.text(\"This will be compiled as well\")"
   ]
  },
  {
   "cell_type": "markdown",
   "metadata": {},
   "source": [
    "# <hr>"
   ]
  },
  {
   "cell_type": "markdown",
   "metadata": {},
   "source": [
    "<h3>Javascript contains a list of <u>Reserved Words</u> that have a specific meaning to the compiler and <u>cannot be used</u> for other purposes</h3>\n",
    "    <img src=\"img/reserved_words.png\" alt=\"\">\n",
    "    <p>These words have already been taken by the Javascript Engine and therefore, cannot be used to name any Variables/Functions/Classes.</p>"
   ]
  },
  {
   "cell_type": "markdown",
   "metadata": {},
   "source": [
    "<hr>"
   ]
  },
  {
   "cell_type": "markdown",
   "metadata": {},
   "source": [
    "<h3>Statements</h3>\n",
    "    <ul>\n",
    "        <li>Used to represent an action or a sequence of actions</li>\n",
    "        <li>optional for you to end each statement with a (;)</li>\n",
    "    </ul>"
   ]
  },
  {
   "cell_type": "markdown",
   "metadata": {},
   "source": [
    "<h4><u>Example of a statement</u></h4>"
   ]
  },
  {
   "cell_type": "code",
   "execution_count": 4,
   "metadata": {},
   "outputs": [
    {
     "data": {
      "application/javascript": [
       "element.text(\"Hello World\");\n"
      ],
      "text/plain": [
       "<IPython.core.display.Javascript object>"
      ]
     },
     "metadata": {},
     "output_type": "display_data"
    }
   ],
   "source": [
    "%%js\n",
    "element.text(\"Hello World\");"
   ]
  },
  {
   "cell_type": "markdown",
   "metadata": {},
   "source": [
    "<h3>Blocks</h3>\n",
    "    <ul>\n",
    "        <li>\n",
    "            Enclosed by a pair of curly braces {....} in a program to form a block that groups components of a program.\n",
    "        </li>\n",
    "        <li>Blocks can be nested, allowing another block to be placed within it.</li>\n",
    "    </ul>"
   ]
  },
  {
   "cell_type": "markdown",
   "metadata": {},
   "source": [
    "<h4><u>Example of a Block of codes</u></h4>"
   ]
  },
  {
   "cell_type": "code",
   "execution_count": 5,
   "metadata": {},
   "outputs": [
    {
     "data": {
      "application/javascript": [
       "var x = 5\n",
       "if (x > 10){\n",
       "    element.text(\"x is bigger than 10\") \n",
       "}\n",
       "else{\n",
       "    element.text(\"x is smaller than 10\")\n",
       "}\n"
      ],
      "text/plain": [
       "<IPython.core.display.Javascript object>"
      ]
     },
     "metadata": {},
     "output_type": "display_data"
    }
   ],
   "source": [
    "%%js\n",
    "var x = 5\n",
    "if (x > 10){\n",
    "    element.text(\"x is bigger than 10\") \n",
    "}\n",
    "else{\n",
    "    element.text(\"x is smaller than 10\")\n",
    "}"
   ]
  },
  {
   "cell_type": "markdown",
   "metadata": {},
   "source": [
    "<h4><u>Example of Nested Block of Codes</u></h4>"
   ]
  },
  {
   "cell_type": "code",
   "execution_count": 6,
   "metadata": {},
   "outputs": [
    {
     "data": {
      "application/javascript": [
       "var x = 15\n",
       "if (x > 10){\n",
       "    x += 5\n",
       "    if (x == 20){\n",
       "        element.text(\"x is equals to 20\")\n",
       "    }\n",
       "    else{\n",
       "        element.text(\"x is more than 10 and not equals to 20\")\n",
       "    }\n",
       "}\n"
      ],
      "text/plain": [
       "<IPython.core.display.Javascript object>"
      ]
     },
     "metadata": {},
     "output_type": "display_data"
    }
   ],
   "source": [
    "%%js\n",
    "var x = 15\n",
    "if (x > 10){\n",
    "    x += 5\n",
    "    if (x == 20){\n",
    "        element.text(\"x is equals to 20\")\n",
    "    }\n",
    "    else{\n",
    "        element.text(\"x is more than 10 and not equals to 20\")\n",
    "    }\n",
    "}"
   ]
  },
  {
   "cell_type": "markdown",
   "metadata": {},
   "source": [
    "<hr>"
   ]
  },
  {
   "cell_type": "markdown",
   "metadata": {},
   "source": [
    "# Topic 03 Data Types and Operators"
   ]
  },
  {
   "cell_type": "markdown",
   "metadata": {},
   "source": [
    "<h3>Objectives:</h3>\n",
    "    <ul>\n",
    "        <li>Write Programs to perform simple calculations</li>\n",
    "        <li>Use identifiers to name variables/constants/functions</li>\n",
    "        <li>Use variables to store Data</li>\n",
    "        <li>Program with assignment statements and assignment expressions</li>\n",
    "        <li>Use constants to store permanent data</li>\n",
    "        <li>Declare primitive data</li>\n",
    "        <li>Use operators to write expressions</li>\n",
    "        <li>Represent a string using String Type</li>\n",
    "        <li>Obtain user-input using Readline-Sync library</li>\n",
    "        <li>Become familiar with programming style and naming conventions</li>\n",
    "        <li>Distinguish Syntax Errors, Runtime Errors, Logic Errors</li>\n",
    "    </ul>"
   ]
  },
  {
   "cell_type": "markdown",
   "metadata": {},
   "source": [
    "<h3>Identifiers</h3>\n",
    "    <p>Identifiers are Names used to name variables/functions/keywords/labels</p>\n",
    "    <ol>\n",
    "        <li>An identifier is a sequence of characters that consist of letters, digits, underscores (_), and dollar signs (\\$).\n",
    "        </li>\n",
    "        <li> An identifier must start with a letter, an underscore (_), or a dollar sign ($). It cannot start with a digit.\n",
    "            Subsequent characters may be letters, digits, underscores, or dollar signs.</li>\n",
    "        <li>An identifier cannot be a reserved word such as true, false, null, var.</li>\n",
    "        <li>An identifier can be of any length.</li>\n",
    "        <li>An identifier must not have any spaces.</li>\n",
    "    </ol>"
   ]
  },
  {
   "cell_type": "markdown",
   "metadata": {},
   "source": [
    "   <h3>Variables</h3>\n",
    "    <ul>\n",
    "        <li>variables can be thought of as named containers.</li>\n",
    "        <li>You can put data into these containers.</li>\n",
    "        <li>You can refer (or retrieve) the data in the container simply by mentioning the name of the container in your program\n",
    "        code.</li>\n",
    "        <li>\n",
    "            <h4>Declaring a variable:</h4>\n",
    "            <p>\n",
    "                Many languages will require you to declare the variables as mentioned above (e.g. var variable = 10). Javascript allows variable declaration, but does not require it except when declaringa local variable.\n",
    "            </p>\n",
    "            <p>Variables can be declared in the following ways:</p>\n",
    "            <ul>\n",
    "                <li><em>var name; var age;</em></li>\n",
    "                <li><em>var name, age;</em></li>\n",
    "            </ul>\n",
    "        </li>\n",
    "        <li>\n",
    "            <h4>Initializing Variables</h4>\n",
    "            <p>Storing a value in a variable for the first time is called Variable Initialization.</p>\n",
    "            <p>You can do Variable Initialization at the time of creation using (=) equal sign:</p>\n",
    "            <ul>\n",
    "                <em>var name = \"Mary\"</em>\n",
    "            </ul>\n",
    "            <p>Or do it after at a later point in time</p>\n",
    "            <ul>\n",
    "                <em>\n",
    "                    var name; //declare <br>\n",
    "                    name = \"Mary\" //assignment of value\n",
    "                </em>\n",
    "            </ul>\n",
    "        </li>\n",
    "        <p>Javascript is an Untyped language which allows its variables to hold a value of any data type.</p>\n",
    "    </ul>"
   ]
  },
  {
   "cell_type": "markdown",
   "metadata": {},
   "source": [
    " <h3>Data Types</h3>\n",
    "    <img src=\"img/Data_types.png\" alt=\"\">\n",
    "    <h4><u>Primitive Type</u></h4>\n",
    "    <ul>\n",
    "       <li><strong>Integer</strong>\n",
    "            <p>Positive or Negative number with no decimal place</p>\n",
    "            <p>whole numbers between -9223372036854775808 and +9223372036854775808 </p>\n",
    "        </li>\n",
    "\n",
    "       <li>\n",
    "            <strong>Floating point Numbers</strong>\n",
    "            <p>Positive or Negative number with decimal place or numbers written with exponential notation</p>\n",
    "            <p>decimal values from ±1.0x10^308 to ± 1.0x10^-323 or 17 digits of precision past decimal point</p>\n",
    "        </li>\n",
    "\n",
    "        <li>\n",
    "            <strong>Boolean</strong>\n",
    "            <p>Yields a logical value of either True or False</p>\n",
    "            <p>True/False values</p>\n",
    "        </li>\n",
    "\n",
    "        <li>\n",
    "            <strong>String</strong>\n",
    "            <p>Text such as \"Hello World\"</p>\n",
    "            <p>series of characters, can be any length including zero-length(\"\")</p>\n",
    "        </li>\n",
    "\n",
    "        <li>\n",
    "            <strong>Undefined</strong>\n",
    "            <p>Empty variables/ undeclared variables or variables that does not exist</p>\n",
    "        </li>\n",
    "\n",
    "        <li>\n",
    "            <strong>null</strong>\n",
    "            <p>Empty Value</p>\n",
    "        </li>\n",
    "    </ul>"
   ]
  },
  {
   "cell_type": "markdown",
   "metadata": {},
   "source": [
    "<h3>Escape Sequence</h3>\n",
    "    <p>Javascript uses the backslash(\\) as an escape character for:</p>\n",
    "    <img src=\"img/excape_char.png\" alt=\"\">"
   ]
  },
  {
   "cell_type": "markdown",
   "metadata": {},
   "source": [
    "<h2>Reading & Writing from DATA Files</h2>"
   ]
  },
  {
   "cell_type": "code",
   "execution_count": 7,
   "metadata": {},
   "outputs": [
    {
     "data": {
      "application/javascript": [
       "\n",
       "var fs = require('fs');\n",
       "var data = fs.readFileSync('msg.txt', 'ascii');\n",
       "console.log(\"Synchronous reading: \" + data)\n"
      ],
      "text/plain": [
       "<IPython.core.display.Javascript object>"
      ]
     },
     "metadata": {},
     "output_type": "display_data"
    }
   ],
   "source": [
    "%%js\n",
    "\n",
    "var fs = require('fs');\n",
    "var data = fs.readFileSync('msg.txt', 'ascii');\n",
    "console.log(\"Synchronous reading: \" + data)"
   ]
  },
  {
   "cell_type": "code",
   "execution_count": 8,
   "metadata": {},
   "outputs": [
    {
     "data": {
      "application/javascript": [
       "//Use this to append to an external file\n",
       "\n",
       "var fs = require('fs');\n",
       "try {\n",
       "    fs.appendFileSynce('new.txt', 'This is a new file');\n",
       "\n",
       "}\n",
       "catch(err){\n",
       "    console.log(err)\n",
       "}\n"
      ],
      "text/plain": [
       "<IPython.core.display.Javascript object>"
      ]
     },
     "metadata": {},
     "output_type": "display_data"
    }
   ],
   "source": [
    "%%js\n",
    "//Use this to append to an external file\n",
    "\n",
    "var fs = require('fs');\n",
    "try {\n",
    "    fs.appendFileSynce('new.txt', 'This is a new file');\n",
    "\n",
    "}\n",
    "catch(err){\n",
    "    console.log(err)\n",
    "}"
   ]
  },
  {
   "cell_type": "markdown",
   "metadata": {},
   "source": [
    "<h2>Tenary Operators</h2>"
   ]
  },
  {
   "cell_type": "code",
   "execution_count": 10,
   "metadata": {},
   "outputs": [
    {
     "data": {
      "application/javascript": [
       "\n",
       "//The syntax is: (condition) ? \"if true what happens\" : \"if false what happens\";\n",
       "        \n",
       "//Example code\n",
       "\n",
       "var a = 0;\n",
       "var Tenary = (a == 0) ? \"A is zero\" : \"A is not zero\";\n",
       "alert(Tenary)\n"
      ],
      "text/plain": [
       "<IPython.core.display.Javascript object>"
      ]
     },
     "metadata": {},
     "output_type": "display_data"
    }
   ],
   "source": [
    "%%js\n",
    "\n",
    "//The syntax is: (condition) ? \"if true what happens\" : \"if false what happens\";\n",
    "        \n",
    "//Example code\n",
    "\n",
    "var a = 0;\n",
    "var Tenary = (a == 0) ? \"A is zero\" : \"A is not zero\";\n",
    "alert(Tenary)"
   ]
  },
  {
   "cell_type": "code",
   "execution_count": null,
   "metadata": {},
   "outputs": [],
   "source": []
  }
 ],
 "metadata": {
  "kernelspec": {
   "display_name": "Python 3",
   "language": "python",
   "name": "python3"
  },
  "language_info": {
   "codemirror_mode": {
    "name": "ipython",
    "version": 3
   },
   "file_extension": ".py",
   "mimetype": "text/x-python",
   "name": "python",
   "nbconvert_exporter": "python",
   "pygments_lexer": "ipython3",
   "version": "3.7.6"
  }
 },
 "nbformat": 4,
 "nbformat_minor": 4
}
