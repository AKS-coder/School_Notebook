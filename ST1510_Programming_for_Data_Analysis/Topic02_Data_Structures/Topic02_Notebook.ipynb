{
 "cells": [
  {
   "cell_type": "markdown",
   "metadata": {},
   "source": [
    "# Topic 02: Python Data Structures"
   ]
  },
  {
   "cell_type": "markdown",
   "metadata": {},
   "source": [
    "## Python Lists"
   ]
  },
  {
   "cell_type": "code",
   "execution_count": 2,
   "metadata": {},
   "outputs": [],
   "source": [
    "# Python List -- List Assignment\n",
    "\n",
    "# Python uses lists to represent an Array\n",
    "# Used to store collections of similiar(or dissimilar) items\n",
    "\n",
    "# This is a variable assignment\n",
    "not_a_list = 'Red'\n",
    "\n",
    "# This is a list assignment where a list of values is assigned to a list called 'im_a_list'\n",
    "im_a_list = ['Red', 'Green', 'Blue']\n",
    "\n"
   ]
  },
  {
   "cell_type": "code",
   "execution_count": 3,
   "metadata": {},
   "outputs": [
    {
     "name": "stdout",
     "output_type": "stream",
     "text": [
      "3\n",
      "Hello\n"
     ]
    }
   ],
   "source": [
    "# Python List -- Accessing Elements in a List\n",
    "\n",
    "# List index starts at 0, and can be sliced, concatenated etc...\n",
    "\n",
    "\n",
    "wordBank = [\"Hello\", \"World\", \"!\"] # Creating a list with 3 elements called \"wordBank\"\n",
    "\n",
    "print(len(wordBank)) # Use the built-in len() function to get the length of the list\n",
    "\n",
    "print(wordBank[0]) # Prints the first value in the list.\n"
   ]
  },
  {
   "cell_type": "code",
   "execution_count": 12,
   "metadata": {},
   "outputs": [
    {
     "name": "stdout",
     "output_type": "stream",
     "text": [
      "['A', 'K', 'S']\n",
      "['Hi', 'There', 'My', 'Name', 'is']\n"
     ]
    }
   ],
   "source": [
    "# Python List -- List Slicing\n",
    "\n",
    "# Syntax: listName[start_index: ending_index]\n",
    "\n",
    "# Example:\n",
    "\n",
    "testList = [\"Hi\", \"There\", \"My\", \"Name\", \"is\", \"A\", \"K\", \"S\"]\n",
    "\n",
    "print(testList[5:]) # Prints the elements from the 5th index onwards\n",
    "print(testList[:5]) # Prints the elements up to the 5th index\n"
   ]
  },
  {
   "cell_type": "code",
   "execution_count": 13,
   "metadata": {},
   "outputs": [
    {
     "name": "stdout",
     "output_type": "stream",
     "text": [
      "['A', 'K', 'S']\n"
     ]
    }
   ],
   "source": [
    "# Python List -- Negative List Slicing\n",
    "\n",
    "# Basically printing the elements from the back onwards\n",
    "# Take note that the last element in the list has an index of -1 as well.\n",
    "\n",
    "# Example:\n",
    "\n",
    "testList = [\"Hi\", \"There\", \"My\", \"Name\", \"is\", \"A\", \"K\", \"S\"]\n",
    "print(testList[-3:]) # Print the elements from the third last index till the end."
   ]
  },
  {
   "cell_type": "code",
   "execution_count": 17,
   "metadata": {},
   "outputs": [
    {
     "name": "stdout",
     "output_type": "stream",
     "text": [
      "['Hi', 'My', 'is', 'K']\n",
      "['S', 'K', 'A', 'is', 'Name', 'My', 'There', 'Hi']\n"
     ]
    }
   ],
   "source": [
    "# Python List -- List Slicing steps\n",
    "\n",
    "# Syntax: listName[start_index: ending_index: step]\n",
    "\n",
    "# Example:\n",
    "\n",
    "testList = [\"Hi\", \"There\", \"My\", \"Name\", \"is\", \"A\", \"K\", \"S\"]\n",
    "print(testList[::2]) # Prints the elements with an even number index\n",
    "print(testList[::-1]) # Prints the list in the reverse order"
   ]
  },
  {
   "cell_type": "code",
   "execution_count": 19,
   "metadata": {},
   "outputs": [
    {
     "name": "stdout",
     "output_type": "stream",
     "text": [
      "Hi\tThere\tMy\tName\tis\tA\tK\tS\t"
     ]
    }
   ],
   "source": [
    "# Python List -- Iterate through a List\n",
    "\n",
    "# Example:\n",
    "testList = [\"Hi\", \"There\", \"My\", \"Name\", \"is\", \"A\", \"K\", \"S\"]\n",
    "\n",
    "# using the for loop to iterate through the list\n",
    "for element in testList:\n",
    "#   For each iteration, the variable 'element' will carry different values.\n",
    "    print(element, end=\"\\t\")"
   ]
  },
  {
   "cell_type": "code",
   "execution_count": 24,
   "metadata": {},
   "outputs": [
    {
     "name": "stdout",
     "output_type": "stream",
     "text": [
      "List with .append(): ['Hi', 'There', 'My', 'Name', 'is', 'A', 'K', 'S', 'Nice to meet you!']\n",
      "List with .insert(): ['Hi', 'There', 'Mate!', 'My', 'Name', 'is', 'A', 'K', 'S', 'Nice to meet you!']\n"
     ]
    }
   ],
   "source": [
    "# Python List -- Updating/Adding elements to a List\n",
    "\n",
    "# You can add additional elements to a list by using the .append() or .insert() methods\n",
    "\n",
    "# Example:\n",
    "testList = [\"Hi\", \"There\", \"My\", \"Name\", \"is\", \"A\", \"K\", \"S\"]\n",
    "\n",
    "testList.append(\"Nice to meet you!\") # Adds on a new item to the end of the list\n",
    "print(\"List with .append():\", testList)\n",
    "\n",
    "testList.insert(2, \"Mate!\") # Insert allows you to add an item to a specific index in the list\n",
    "print(\"List with .insert():\", testList)\n"
   ]
  },
  {
   "cell_type": "code",
   "execution_count": 29,
   "metadata": {},
   "outputs": [
    {
     "name": "stdout",
     "output_type": "stream",
     "text": [
      "S\n",
      "['Hi', 'My', 'Name', 'is', 'A', 'K']\n"
     ]
    }
   ],
   "source": [
    "# Python List -- Removing/Deleting elements from a List\n",
    "\n",
    "# You can remove elements in a list using .pop() or del() methods\n",
    "\n",
    "# Example:\n",
    "testList = [\"Hi\", \"There\", \"My\", \"Name\", \"is\", \"A\", \"K\", \"S\"]\n",
    "\n",
    "print(testList.pop()) # returns the last element of the List\n",
    "\n",
    "del(testList[1]) # Removes the element at the '1' index\n",
    "print(testList)"
   ]
  },
  {
   "cell_type": "code",
   "execution_count": null,
   "metadata": {},
   "outputs": [],
   "source": [
    "# Python List -- + and * operations with Lists\n"
   ]
  }
 ],
 "metadata": {
  "kernelspec": {
   "display_name": "Python 3",
   "language": "python",
   "name": "python3"
  },
  "language_info": {
   "codemirror_mode": {
    "name": "ipython",
    "version": 3
   },
   "file_extension": ".py",
   "mimetype": "text/x-python",
   "name": "python",
   "nbconvert_exporter": "python",
   "pygments_lexer": "ipython3",
   "version": "3.7.6"
  }
 },
 "nbformat": 4,
 "nbformat_minor": 4
}
