{
 "cells": [
  {
   "cell_type": "markdown",
   "metadata": {},
   "source": [
    "# Topic 02: Python Data Structures"
   ]
  },
  {
   "cell_type": "markdown",
   "metadata": {},
   "source": [
    "## Python Lists"
   ]
  },
  {
   "cell_type": "code",
   "execution_count": 2,
   "metadata": {},
   "outputs": [],
   "source": [
    "# Python List -- List Assignment\n",
    "\n",
    "# Python uses lists to represent an Array\n",
    "# Used to store collections of similiar(or dissimilar) items\n",
    "\n",
    "# This is a variable assignment\n",
    "not_a_list = 'Red'\n",
    "\n",
    "# This is a list assignment where a list of values is assigned to a list called 'im_a_list'\n",
    "im_a_list = ['Red', 'Green', 'Blue']\n",
    "\n"
   ]
  },
  {
   "cell_type": "code",
   "execution_count": 3,
   "metadata": {},
   "outputs": [
    {
     "name": "stdout",
     "output_type": "stream",
     "text": [
      "3\n",
      "Hello\n"
     ]
    }
   ],
   "source": [
    "# Python List -- Accessing Elements in a List\n",
    "\n",
    "# List index starts at 0, and can be sliced, concatenated etc...\n",
    "\n",
    "\n",
    "wordBank = [\"Hello\", \"World\", \"!\"] # Creating a list with 3 elements called \"wordBank\"\n",
    "\n",
    "print(len(wordBank)) # Use the built-in len() function to get the length of the list\n",
    "\n",
    "print(wordBank[0]) # Prints the first value in the list.\n"
   ]
  },
  {
   "cell_type": "code",
   "execution_count": 12,
   "metadata": {},
   "outputs": [
    {
     "name": "stdout",
     "output_type": "stream",
     "text": [
      "['A', 'K', 'S']\n",
      "['Hi', 'There', 'My', 'Name', 'is']\n"
     ]
    }
   ],
   "source": [
    "# Python List -- List Slicing\n",
    "\n",
    "# Syntax: listName[start_index: ending_index]\n",
    "\n",
    "# Example:\n",
    "\n",
    "testList = [\"Hi\", \"There\", \"My\", \"Name\", \"is\", \"A\", \"K\", \"S\"]\n",
    "\n",
    "print(testList[5:]) # Prints the elements from the 5th index onwards\n",
    "print(testList[:5]) # Prints the elements up to the 5th index\n"
   ]
  },
  {
   "cell_type": "code",
   "execution_count": 13,
   "metadata": {},
   "outputs": [
    {
     "name": "stdout",
     "output_type": "stream",
     "text": [
      "['A', 'K', 'S']\n"
     ]
    }
   ],
   "source": [
    "# Python List -- Negative List Slicing\n",
    "\n",
    "# Basically printing the elements from the back onwards\n",
    "# Take note that the last element in the list has an index of -1 as well.\n",
    "\n",
    "# Example:\n",
    "\n",
    "testList = [\"Hi\", \"There\", \"My\", \"Name\", \"is\", \"A\", \"K\", \"S\"]\n",
    "print(testList[-3:]) # Print the elements from the third last index till the end."
   ]
  },
  {
   "cell_type": "code",
   "execution_count": 17,
   "metadata": {},
   "outputs": [
    {
     "name": "stdout",
     "output_type": "stream",
     "text": [
      "['Hi', 'My', 'is', 'K']\n",
      "['S', 'K', 'A', 'is', 'Name', 'My', 'There', 'Hi']\n"
     ]
    }
   ],
   "source": [
    "# Python List -- List Slicing steps\n",
    "\n",
    "# Syntax: listName[start_index: ending_index: step]\n",
    "\n",
    "# Example:\n",
    "\n",
    "testList = [\"Hi\", \"There\", \"My\", \"Name\", \"is\", \"A\", \"K\", \"S\"]\n",
    "print(testList[::2]) # Prints the elements with an even number index\n",
    "print(testList[::-1]) # Prints the list in the reverse order"
   ]
  },
  {
   "cell_type": "code",
   "execution_count": 19,
   "metadata": {},
   "outputs": [
    {
     "name": "stdout",
     "output_type": "stream",
     "text": [
      "Hi\tThere\tMy\tName\tis\tA\tK\tS\t"
     ]
    }
   ],
   "source": [
    "# Python List -- Iterate through a List\n",
    "\n",
    "# Example:\n",
    "testList = [\"Hi\", \"There\", \"My\", \"Name\", \"is\", \"A\", \"K\", \"S\"]\n",
    "\n",
    "# using the for loop to iterate through the list\n",
    "for element in testList:\n",
    "#   For each iteration, the variable 'element' will carry different values.\n",
    "    print(element, end=\"\\t\")"
   ]
  },
  {
   "cell_type": "code",
   "execution_count": 24,
   "metadata": {},
   "outputs": [
    {
     "name": "stdout",
     "output_type": "stream",
     "text": [
      "List with .append(): ['Hi', 'There', 'My', 'Name', 'is', 'A', 'K', 'S', 'Nice to meet you!']\n",
      "List with .insert(): ['Hi', 'There', 'Mate!', 'My', 'Name', 'is', 'A', 'K', 'S', 'Nice to meet you!']\n"
     ]
    }
   ],
   "source": [
    "# Python List -- Updating/Adding elements to a List\n",
    "\n",
    "# You can add additional elements to a list by using the .append() or .insert() methods\n",
    "\n",
    "# Example:\n",
    "testList = [\"Hi\", \"There\", \"My\", \"Name\", \"is\", \"A\", \"K\", \"S\"]\n",
    "\n",
    "testList.append(\"Nice to meet you!\") # Adds on a new item to the end of the list\n",
    "print(\"List with .append():\", testList)\n",
    "\n",
    "testList.insert(2, \"Mate!\") # Insert allows you to add an item to a specific index in the list\n",
    "print(\"List with .insert():\", testList)\n"
   ]
  },
  {
   "cell_type": "code",
   "execution_count": 29,
   "metadata": {},
   "outputs": [
    {
     "name": "stdout",
     "output_type": "stream",
     "text": [
      "S\n",
      "['Hi', 'My', 'Name', 'is', 'A', 'K']\n"
     ]
    }
   ],
   "source": [
    "# Python List -- Removing/Deleting elements from a List\n",
    "\n",
    "# You can remove elements in a list using .pop() or del() methods\n",
    "\n",
    "# Example:\n",
    "testList = [\"Hi\", \"There\", \"My\", \"Name\", \"is\", \"A\", \"K\", \"S\"]\n",
    "\n",
    "print(testList.pop()) # returns the last element of the List\n",
    "\n",
    "del(testList[1]) # Removes the element at the '1' index\n",
    "print(testList)"
   ]
  },
  {
   "cell_type": "code",
   "execution_count": 2,
   "metadata": {},
   "outputs": [
    {
     "name": "stdout",
     "output_type": "stream",
     "text": [
      "['Hi', 'There', 'My', 'Name', 'is', 'A', 'K', 'S', 'Hi', 'There', 'My', 'Name', 'is', 'A', 'K', 'S']\n",
      "['Hi', 'There', 'My', 'Name', 'is', 'A', 'K', 'S', 1, 2, 3, 4, 5]\n"
     ]
    }
   ],
   "source": [
    "# Python List -- + and * operations with Lists\n",
    "\n",
    "# List can also be manipulated with + and * operators like a string\n",
    "\n",
    "# Example:\n",
    "testList = [\"Hi\", \"There\", \"My\", \"Name\", \"is\", \"A\", \"K\", \"S\"]\n",
    "testList02 = [1, 2, 3, 4, 5]\n",
    "\n",
    "print(testList * 2) # The * operator basically tells the compiler to print the list nth-times\n",
    "\n",
    "print(testList + testList02) # The + operator can be used to concatenate 2 lists into"
   ]
  },
  {
   "cell_type": "code",
   "execution_count": 6,
   "metadata": {},
   "outputs": [
    {
     "name": "stdout",
     "output_type": "stream",
     "text": [
      "8\n",
      "is\n",
      "A\n",
      "['Hello', 'World', '!']\n"
     ]
    }
   ],
   "source": [
    "# Python List -- Commonly used built-in functions (1)\n",
    "\n",
    "# Example:\n",
    "\n",
    "testList = [\"Hi\", \"There\", \"My\", \"Name\", \"is\", \"A\", \"K\", \"S\"]\n",
    "myTuple = (\"Hello\", \"World\", \"!\") # Tuple is another type of Data Structure in Python\n",
    "\n",
    "print(len(testList)) # prints the length of the given List\n",
    "\n",
    "print(max(testList)) # returns the largest value from the list\n",
    "\n",
    "print(min(testList)) # returns the smallest value from the list\n",
    "\n",
    "print(list(myTuple)) # Converts a tuple into a list"
   ]
  },
  {
   "cell_type": "code",
   "execution_count": 14,
   "metadata": {},
   "outputs": [
    {
     "name": "stdout",
     "output_type": "stream",
     "text": [
      "['Windows', 'Ubuntu', 'Linux', 'MacintoshOS', 'Ubuntu', 'Google']\n",
      "2\n",
      "The index of MachintoshOS is 3\n",
      "['Google', 'Ubuntu', 'MacintoshOS', 'Linux', 'Ubuntu', 'Windows']\n"
     ]
    }
   ],
   "source": [
    "# Python List -- Commonly used built-in functions (2)\n",
    "\n",
    "# Example:\n",
    "\n",
    "testList03 = ['Windows', \"Ubuntu\", \"Linux\", \"MacintoshOS\"]\n",
    "\n",
    "testList03.extend([\"Ubuntu\", \"Google\"]) # Similiar to .append() function, .extend() allows you to add a list to an existing list\n",
    "\n",
    "print(testList03)\n",
    "\n",
    "print(testList03.count('Ubuntu')) # .count() function takes in a parameter of the element you want to count from the list and returns the amount of times the element appears in the list\n",
    "\n",
    "print(\"The index of MachintoshOS is\", testList03.index('MacintoshOS'))\n",
    "\n",
    "testList03.reverse() # reverse the order of elements in the list\n",
    "print(testList03)\n",
    "\n",
    "#  .sort(key = None, reverse = False) sorts objects of list, use key to compare if given reverse the determineds the order"
   ]
  },
  {
   "cell_type": "code",
   "execution_count": 19,
   "metadata": {},
   "outputs": [
    {
     "name": "stdout",
     "output_type": "stream",
     "text": [
      "[0, 1, 2, 3, 4, 5, 6, 9]\n",
      "[9, 6, 5, 4, 3, 2, 1, 0]\n",
      "['Bee', 'Beetle', 'Butterfly', 'Cockroach', 'Worms']\n",
      "['Bee', 'Worms', 'Beetle', 'Butterfly', 'Cockroach']\n"
     ]
    }
   ],
   "source": [
    "# Python List -- Built-in List Sort method\n",
    "\n",
    "numbers = [1,4, 5, 2, 0, 9, 3, 6]\n",
    "numbers.sort()\n",
    "print(numbers)\n",
    "\n",
    "numbers.sort(reverse = True) # sort and print the elements in the list in a reverse order\n",
    "print(numbers)\n",
    "\n",
    "insects = [\"Bee\", \"Cockroach\", \"Worms\", \"Beetle\", \"Butterfly\"]\n",
    "insects.sort()\n",
    "print(insects)\n",
    "\n",
    "insects.sort(key = len) # Sort the values in the list based on the length of the elements\n",
    "print(insects)"
   ]
  },
  {
   "cell_type": "code",
   "execution_count": 21,
   "metadata": {},
   "outputs": [
    {
     "name": "stdout",
     "output_type": "stream",
     "text": [
      "[1, 5, 3, 2, 4, 8]\n",
      "[1, 2, 3, 4, 5, 8]\n"
     ]
    }
   ],
   "source": [
    "# Python List -- Sorted-List Function\n",
    "# List has a sorted function that creates a new list with the sorted values instead of just replacing the order in the original list\n",
    "\n",
    "a = [1, 5, 3, 2, 4, 8]\n",
    "\n",
    "b = sorted(a)\n",
    "print(a)\n",
    "print(b)"
   ]
  },
  {
   "cell_type": "code",
   "execution_count": 29,
   "metadata": {},
   "outputs": [
    {
     "name": "stdout",
     "output_type": "stream",
     "text": [
      "[1, 4, 9, 16]\n",
      "[1, 8, 27, 64]\n",
      "[4, 16]\n"
     ]
    }
   ],
   "source": [
    "# Python List -- List Comprehension\n",
    "\n",
    "numbers = [1, 2, 3, 4]\n",
    "squared01 = []\n",
    "\n",
    "\n",
    "# Method 01:\n",
    "for n in numbers: # For each element in the list numbers, square the value and append into the list squared01\n",
    "    squared01.append(n ** 2)\n",
    "print(squared01)\n",
    "\n",
    "# Method 02:\n",
    "squared02 = [n ** 3 for n in numbers] # For each element in numbers, cube the value and add it to the list squared02\n",
    "print(squared02)\n",
    "\n",
    "# Method 03:\n",
    "squared03 = [n ** 2 for n in numbers if n % 2 == 0] # for each element in the list numbers, square the value of the element and only add it into the list squared03 if the number is a even number\n",
    "print(squared03)"
   ]
  },
  {
   "cell_type": "markdown",
   "metadata": {},
   "source": [
    "## Tuples & Sets"
   ]
  },
  {
   "cell_type": "code",
   "execution_count": 30,
   "metadata": {},
   "outputs": [],
   "source": [
    "# Python Tuples -- What is a Tuple?\n",
    "\n",
    "# A Tuple is like a list that can store many different types of data\n",
    "# Tuples uses parenthesis instead of brackets\n",
    "\n",
    "exampleTuple = (\"P123456\", \"AKS\", 3.2, 17) # Tuples can hold different data types like string, floats, integers ...\n",
    "singleValTuple = (\"AKS\", ) # Tuples can also be created with a single element but a comma(,) must be placed after the element.\n"
   ]
  },
  {
   "cell_type": "code",
   "execution_count": 32,
   "metadata": {},
   "outputs": [
    {
     "ename": "TypeError",
     "evalue": "'tuple' object does not support item assignment",
     "output_type": "error",
     "traceback": [
      "\u001b[0;31m---------------------------------------------------------------------------\u001b[0m",
      "\u001b[0;31mTypeError\u001b[0m                                 Traceback (most recent call last)",
      "\u001b[0;32m<ipython-input-32-1ab531727d8f>\u001b[0m in \u001b[0;36m<module>\u001b[0;34m\u001b[0m\n\u001b[1;32m      5\u001b[0m \u001b[0mexampleTuple\u001b[0m \u001b[0;34m=\u001b[0m \u001b[0;34m(\u001b[0m\u001b[0;34m\"P123456\"\u001b[0m\u001b[0;34m,\u001b[0m \u001b[0;34m\"AKS\"\u001b[0m\u001b[0;34m,\u001b[0m \u001b[0;36m3.2\u001b[0m\u001b[0;34m,\u001b[0m \u001b[0;36m17\u001b[0m\u001b[0;34m)\u001b[0m\u001b[0;34m\u001b[0m\u001b[0;34m\u001b[0m\u001b[0m\n\u001b[1;32m      6\u001b[0m \u001b[0;34m\u001b[0m\u001b[0m\n\u001b[0;32m----> 7\u001b[0;31m \u001b[0mexampleTuple\u001b[0m\u001b[0;34m[\u001b[0m\u001b[0;36m1\u001b[0m\u001b[0;34m]\u001b[0m \u001b[0;34m=\u001b[0m \u001b[0;34m\"John\"\u001b[0m\u001b[0;34m\u001b[0m\u001b[0;34m\u001b[0m\u001b[0m\n\u001b[0m",
      "\u001b[0;31mTypeError\u001b[0m: 'tuple' object does not support item assignment"
     ]
    }
   ],
   "source": [
    "# Python Tuples -- So List vs Tuple: What's the difference?\n",
    "\n",
    "# A Tuple is immutable(the values in a tuple cannot be changed)\n",
    "\n",
    "exampleTuple = (\"P123456\", \"AKS\", 3.2, 17)\n",
    "\n",
    "exampleTuple[1] = \"John\""
   ]
  },
  {
   "cell_type": "code",
   "execution_count": 33,
   "metadata": {},
   "outputs": [
    {
     "ename": "AttributeError",
     "evalue": "'tuple' object has no attribute 'append'",
     "output_type": "error",
     "traceback": [
      "\u001b[0;31m---------------------------------------------------------------------------\u001b[0m",
      "\u001b[0;31mAttributeError\u001b[0m                            Traceback (most recent call last)",
      "\u001b[0;32m<ipython-input-33-74e4e10bc565>\u001b[0m in \u001b[0;36m<module>\u001b[0;34m\u001b[0m\n\u001b[1;32m      4\u001b[0m \u001b[0;34m\u001b[0m\u001b[0m\n\u001b[1;32m      5\u001b[0m \u001b[0mexampleTuple\u001b[0m \u001b[0;34m=\u001b[0m \u001b[0;34m(\u001b[0m\u001b[0;34m\"P123456\"\u001b[0m\u001b[0;34m,\u001b[0m \u001b[0;34m\"AKS\"\u001b[0m\u001b[0;34m,\u001b[0m \u001b[0;36m3.2\u001b[0m\u001b[0;34m,\u001b[0m \u001b[0;36m17\u001b[0m\u001b[0;34m)\u001b[0m\u001b[0;34m\u001b[0m\u001b[0;34m\u001b[0m\u001b[0m\n\u001b[0;32m----> 6\u001b[0;31m \u001b[0mexampleTuple\u001b[0m\u001b[0;34m.\u001b[0m\u001b[0mappend\u001b[0m\u001b[0;34m(\u001b[0m\u001b[0;34m\"Male\"\u001b[0m\u001b[0;34m)\u001b[0m\u001b[0;34m\u001b[0m\u001b[0;34m\u001b[0m\u001b[0m\n\u001b[0m",
      "\u001b[0;31mAttributeError\u001b[0m: 'tuple' object has no attribute 'append'"
     ]
    }
   ],
   "source": [
    "# Python Tuples -- So List vs Tuple: What's the difference?\n",
    "\n",
    "# Cannot append values into a tuple\n",
    "\n",
    "exampleTuple = (\"P123456\", \"AKS\", 3.2, 17)\n",
    "exampleTuple.append(\"Male\")"
   ]
  },
  {
   "cell_type": "markdown",
   "metadata": {},
   "source": [
    "## Python Sets"
   ]
  },
  {
   "cell_type": "code",
   "execution_count": 35,
   "metadata": {},
   "outputs": [
    {
     "name": "stdout",
     "output_type": "stream",
     "text": [
      "[1, 2, 3, 4, 5, 6, 1, 2, 3]\n",
      "{1, 2, 3, 4, 5, 6}\n"
     ]
    }
   ],
   "source": [
    "# Python Sets -- What is a Set?\n",
    "\n",
    "# Sets are basically lists with no duplicates\n",
    "\n",
    "list1 = [1, 2, 3, 4, 5, 6]\n",
    "list2 = [1, 2, 3]\n",
    "list3 = list1 + list2\n",
    "set3 = set(list1 + list2)\n",
    "print(list3)\n",
    "print(set3)"
   ]
  },
  {
   "cell_type": "code",
   "execution_count": 38,
   "metadata": {},
   "outputs": [
    {
     "name": "stdout",
     "output_type": "stream",
     "text": [
      "Set3 {1, 2, 3, 4, 5, 6, 'AKS'}\n"
     ]
    },
    {
     "ename": "AttributeError",
     "evalue": "'frozenset' object has no attribute 'add'",
     "output_type": "error",
     "traceback": [
      "\u001b[0;31m---------------------------------------------------------------------------\u001b[0m",
      "\u001b[0;31mAttributeError\u001b[0m                            Traceback (most recent call last)",
      "\u001b[0;32m<ipython-input-38-0b352358ac8a>\u001b[0m in \u001b[0;36m<module>\u001b[0;34m\u001b[0m\n\u001b[1;32m     12\u001b[0m \u001b[0;34m\u001b[0m\u001b[0m\n\u001b[1;32m     13\u001b[0m \u001b[0;31m# Example\u001b[0m\u001b[0;34m\u001b[0m\u001b[0;34m\u001b[0m\u001b[0;34m\u001b[0m\u001b[0m\n\u001b[0;32m---> 14\u001b[0;31m \u001b[0mfrozenSet3\u001b[0m\u001b[0;34m.\u001b[0m\u001b[0madd\u001b[0m\u001b[0;34m(\u001b[0m\u001b[0;34m\"AKS\"\u001b[0m\u001b[0;34m)\u001b[0m\u001b[0;34m\u001b[0m\u001b[0;34m\u001b[0m\u001b[0m\n\u001b[0m",
      "\u001b[0;31mAttributeError\u001b[0m: 'frozenset' object has no attribute 'add'"
     ]
    }
   ],
   "source": [
    "# Python Sets -- Frozen Sets\n",
    "# Frozen sets are immutable\n",
    "\n",
    "list1 = [1, 2, 3, 4, 5, 6]\n",
    "list2 = [1, 2, 3]\n",
    "list3 = list1 + list2\n",
    "set3 = set(list1 + list2)\n",
    "frozenSet3 = frozenset(list1 + list2)\n",
    "\n",
    "set3.add(\"AKS\")\n",
    "print(\"Set3:\",set3)\n",
    "\n",
    "# Example\n",
    "frozenSet3.add(\"AKS\")"
   ]
  },
  {
   "cell_type": "code",
   "execution_count": 42,
   "metadata": {},
   "outputs": [
    {
     "name": "stdout",
     "output_type": "stream",
     "text": [
      "{1, 2, 3, 4, 5, 6}\n",
      "{1, 2, 3, 4, 5, 6, 7, 8, 9}\n",
      "{1, 2, 3}\n",
      "{4, 5, 6}\n"
     ]
    }
   ],
   "source": [
    "# Python Sets -- Common Methods\n",
    "\n",
    "set01 = {1, 2, 3, 4, 5}\n",
    "\n",
    "# .add(x): adds the element x to the set if it is not already present\n",
    "set01.add(6)\n",
    "print(set01)\n",
    "\n",
    "# .union(set): returns all items in both sets\n",
    "set02 = {9, 8, 7}\n",
    "print(set01.union(set02))\n",
    "\n",
    "# .intersection(set): returns all the common values between the 2 sets\n",
    "set03 = {1, 2, 3}\n",
    "print(set01.intersection(set03))\n",
    "\n",
    "# .difference(set): returns all the values present in the first set but not the second\n",
    "print(set01.difference(set03))"
   ]
  },
  {
   "cell_type": "markdown",
   "metadata": {},
   "source": [
    "## Python Dictionary"
   ]
  },
  {
   "cell_type": "code",
   "execution_count": 45,
   "metadata": {},
   "outputs": [
    {
     "name": "stdout",
     "output_type": "stream",
     "text": [
      "<built-in method keys of dict object at 0x7f80e1281e60>\n",
      "83451276\n"
     ]
    }
   ],
   "source": [
    "# Python Dictionary -- What is a Dictionary?\n",
    "\n",
    "# A Dictionary is a data type similiar to a list but works with 'key-value' pairs instead of index\n",
    "\n",
    "# Example:\n",
    "\n",
    "contacts = {\n",
    "    \"James\" : 83451276,\n",
    "    \"Mary\" : 90573287,\n",
    "    \"Jane\" : 77723475,\n",
    "}\n",
    "\n",
    "print(contacts.keys()) # Prints a list of keys\n",
    "\n",
    "print(contacts['James']) # Prints the value assigned to the key name \"James\""
   ]
  },
  {
   "cell_type": "code",
   "execution_count": 47,
   "metadata": {},
   "outputs": [
    {
     "name": "stdout",
     "output_type": "stream",
     "text": [
      "Ms Jane 24\n",
      "Mark 17\n",
      "Mr Moses 32\n",
      "Stark 29\n"
     ]
    }
   ],
   "source": [
    "# Python Dicitonary -- Iterating through a Dictionary\n",
    "\n",
    "# can use dict() constructor to create key-value pairs\n",
    "\n",
    "People = dict([\n",
    "    (\"Ms Jane\", 24),\n",
    "    (\"Mark\", 17),\n",
    "    (\"Mr Moses\", 32),\n",
    "    (\"Stark\", 29),\n",
    "])\n",
    "\n",
    "for key, value in People.items():\n",
    "    print(key, value)\n",
    "    "
   ]
  },
  {
   "cell_type": "code",
   "execution_count": 59,
   "metadata": {},
   "outputs": [
    {
     "name": "stdout",
     "output_type": "stream",
     "text": [
      "0: James\n",
      "1: Mary\n",
      "2: Jane\n"
     ]
    }
   ],
   "source": [
    "# Python Dictionary -- Enumerate function\n",
    "\n",
    "# Allows us to loop through any iterable data structures with an automatic counter\n",
    "\n",
    "contacts = {\n",
    "    \"James\" : 83451276,\n",
    "    \"Mary\" : 90573287,\n",
    "    \"Jane\" : 77723475,\n",
    "}\n",
    "\n",
    "for name, number in enumerate(contacts):\n",
    "    print(f\"{name}: {number}\")"
   ]
  },
  {
   "cell_type": "code",
   "execution_count": 60,
   "metadata": {},
   "outputs": [
    {
     "name": "stdout",
     "output_type": "stream",
     "text": [
      "Mark: 15\n",
      "Jane: 15\n",
      "John: 16\n",
      "Anne: 18\n",
      "James: 12\n",
      "Mary: 14\n"
     ]
    }
   ],
   "source": [
    "# Python Dictionary -- Iterating through multiple Dictionaries\n",
    "\n",
    "# zip() function can be used to loop through multiple iterables together\n",
    "\n",
    "males = {\n",
    "    \"Mark\" : 15,\n",
    "    \"John\" : 16,\n",
    "    \"James\" : 12,\n",
    "    \"Fisher\" : 14,\n",
    "}\n",
    "\n",
    "females = {\n",
    "    \"Jane\" : 15,\n",
    "    \"Anne\" : 18,\n",
    "    \"Mary\" : 14,\n",
    "}\n",
    "\n",
    "for male, female in zip(males, females):\n",
    "    print(f\"{male}: {males[male]}\")\n",
    "    print(f\"{female}: {females[female]}\")"
   ]
  },
  {
   "cell_type": "code",
   "execution_count": 61,
   "metadata": {},
   "outputs": [
    {
     "name": "stdout",
     "output_type": "stream",
     "text": [
      "{93837726: 'Jack', 94762781: 'Jill', 91234567: 'John', 99876543: 'Jane'}\n"
     ]
    }
   ],
   "source": [
    "# Python Dictionary -- Reverse Keys and Values\n",
    "\n",
    "phonebook = { \"Jack\" : 93837726,\n",
    "             \"Jill\" : 94762781,\n",
    "             \"John\": 91234567,\n",
    "             \"Jane\":99876543,\n",
    "            }\n",
    "\n",
    "phonebook_reversed = {y:x for x,y in phonebook.items()}\n",
    "print(phonebook_reversed)"
   ]
  },
  {
   "cell_type": "code",
   "execution_count": 64,
   "metadata": {},
   "outputs": [
    {
     "name": "stdout",
     "output_type": "stream",
     "text": [
      "Angelo: 18\n",
      "Fisher: 14\n",
      "James: 12\n",
      "John: 16\n",
      "Mark: 15\n"
     ]
    }
   ],
   "source": [
    "# Python Dictionary -- Iterating through Dictionary in a sorted Order\n",
    "\n",
    "males = {\n",
    "    \"Angelo\": 18,\n",
    "    \"Mark\" : 15,\n",
    "    \"John\" : 16,\n",
    "    \"James\" : 12,\n",
    "    \"Fisher\" : 14,\n",
    "}\n",
    "\n",
    "for person in sorted(males):\n",
    "    print(f\"{person}: {males[person]}\")"
   ]
  },
  {
   "cell_type": "code",
   "execution_count": 67,
   "metadata": {},
   "outputs": [
    {
     "name": "stdout",
     "output_type": "stream",
     "text": [
      "{'Sushi': 1.2, 'Sashimi': 2.8, 'Seaweed Soup': 3, 'Miso Soup': 3, 'Tempura': 5, 'Ramen': 3.5}\n",
      "{'Sushi': 1.2, 'Sashimi': 2.8, 'Seaweed Soup': 3, 'Miso Soup': 3, 'Tempura': 5, 'Ramen': 3.5, 'Salmon': 8, 'cold-noodles': 5, 'Wasabi-fried tempura': 5.5}\n"
     ]
    }
   ],
   "source": [
    "# Python Dictionary -- Adding new items into a Dictionary\n",
    "\n",
    "jap_menu = {\n",
    "    \"Sushi\" : 1.2,\n",
    "    \"Sashimi\" : 2.8,\n",
    "    \"Seaweed Soup\" : 3,\n",
    "    \"Miso Soup\" : 3,\n",
    "    \"Tempura\" : 5,\n",
    "}\n",
    "\n",
    "jap_menu[\"Ramen\"] = 3.50 # You can assign a new key-value pair to the dictionary with this statement.\n",
    "\n",
    "print(jap_menu)\n",
    "\n",
    "# You can add a second dictionary to an existing dictionary by using the .update() function\n",
    "\n",
    "new_jap_menu = {\n",
    "    \"Salmon\" : 8,\n",
    "    \"cold-noodles\" : 5,\n",
    "    \"Wasabi-fried tempura\" : 5.50\n",
    "}\n",
    "\n",
    "jap_menu.update(new_jap_menu)\n",
    "\n",
    "print(jap_menu)\n",
    "\n"
   ]
  },
  {
   "cell_type": "code",
   "execution_count": 73,
   "metadata": {},
   "outputs": [
    {
     "name": "stdout",
     "output_type": "stream",
     "text": [
      "{'Sushi': 1.2, 'Seaweed Soup': 3, 'Miso Soup': 3, 'Tempura': 5}\n",
      "Value of Tempura: 5\n",
      "{'Sushi': 1.2, 'Seaweed Soup': 3, 'Miso Soup': 3}\n"
     ]
    }
   ],
   "source": [
    "# Python Dictionary -- Removing values from a Dictionary\n",
    "\n",
    "jap_menu = {\n",
    "    \"Sushi\" : 1.2,\n",
    "    \"Sashimi\" : 2.8,\n",
    "    \"Seaweed Soup\" : 3,\n",
    "    \"Miso Soup\" : 3,\n",
    "    \"Tempura\" : 5,\n",
    "}\n",
    "\n",
    "# del(key) function removes a key-value pair using the key\n",
    "\n",
    "del(jap_menu['Sashimi'])\n",
    "print(jap_menu)\n",
    "\n",
    "# .pop() method removes and returns the value with a key\n",
    "print(\"Value of Tempura:\",jap_menu.pop('Tempura'))\n",
    "print(jap_menu)"
   ]
  },
  {
   "cell_type": "code",
   "execution_count": 78,
   "metadata": {},
   "outputs": [
    {
     "name": "stdout",
     "output_type": "stream",
     "text": [
      "{'Name': 'Jane', 'Age': 17, 'Course': 'DAAA'}\n",
      "Jane\tDAAA\n"
     ]
    }
   ],
   "source": [
    "# Python Dictionary -- Nested Dictionary\n",
    "\n",
    "Singapore_Poly = {\n",
    "    \"01\" : {\n",
    "        \"Name\" : \"Jane\",\n",
    "        \"Age\" : 17,\n",
    "        \"Course\" : \"DAAA\"\n",
    "    },\n",
    "    \"02\" : {\n",
    "        \"Name\" : \"Mary\",\n",
    "        \"Age\" : 15,\n",
    "        \"Course\" : \"DAAA\"\n",
    "    },\n",
    "    \"03\" : {\n",
    "        \"Name\" : \"John\",\n",
    "        \"Age\" : 17,\n",
    "        \"Course\" : \"DAAA\"\n",
    "    },\n",
    "    \"04\" : {\n",
    "        \"Name\" : \"James\",\n",
    "        \"Age\" : 17,\n",
    "        \"Course\" : \"DAAA\"\n",
    "    },\n",
    "}\n",
    "\n",
    "print(Singapore_Poly['01'])\n",
    "print(Singapore_Poly['01']['Name'], end=\"\\t\")\n",
    "print(Singapore_Poly['01']['Course'])"
   ]
  },
  {
   "cell_type": "code",
   "execution_count": 80,
   "metadata": {},
   "outputs": [
    {
     "name": "stdout",
     "output_type": "stream",
     "text": [
      "True\n",
      "False\n"
     ]
    }
   ],
   "source": [
    "# Python Dictionary -- Check for existence of key in the dictionary\n",
    "\n",
    "macs = {\n",
    "    \"Hamburger\" : 3,\n",
    "    \"Fillet-O-Fish\" : 2.8,\n",
    "    \"Cheese-Burger\" : 2.5,\n",
    "    \"McChicken\" : 3,\n",
    "    \"Apple Pie\" : 1.5,\n",
    "    \"Choco-Sundae\" : 1.8\n",
    "}\n",
    "\n",
    "print('Hamburger' in macs)\n",
    "print('Beef-Burger' in macs)"
   ]
  },
  {
   "cell_type": "code",
   "execution_count": 81,
   "metadata": {},
   "outputs": [
    {
     "name": "stdout",
     "output_type": "stream",
     "text": [
      "{'Spain'}\n",
      "{'Nicaragua', 'El Salvador'}\n",
      "{('Spain', 252)}\n"
     ]
    }
   ],
   "source": [
    "# Python Dictionary -- Comparing two Dictionaries\n",
    "\n",
    "importers = {'El Salvador' : 1234,'Nicaragua' : 152,'Spain' : 252}\n",
    "exporters = {'Spain' : 252, 'Germany' : 251, 'Italy' : 1563}\n",
    "\n",
    "# Find the intersection of importers and exporters i.e. duplicate keys\n",
    "print(importers.keys() & exporters.keys()) \n",
    "\n",
    "# Find the difference between importers and exporters\n",
    "print(importers.keys() - exporters.keys())\n",
    "\n",
    "# Find countries where amount of exports matches amount of imports\n",
    "print(importers.items() & exporters.items())\n"
   ]
  },
  {
   "cell_type": "markdown",
   "metadata": {},
   "source": [
    "## Python Functions"
   ]
  },
  {
   "cell_type": "code",
   "execution_count": 82,
   "metadata": {},
   "outputs": [
    {
     "name": "stdout",
     "output_type": "stream",
     "text": [
      "Hello there! James\n"
     ]
    }
   ],
   "source": [
    "# Python Functions -- Introduction to Functions\n",
    "\n",
    "# A Function is a block of oganized, re-usable code that is used to perform a single, related action\n",
    "\n",
    "def greeting(name):\n",
    "    print(f\"Hello there! {name}\")\n",
    "\n",
    "greeting(\"James\")"
   ]
  },
  {
   "cell_type": "code",
   "execution_count": 83,
   "metadata": {},
   "outputs": [
    {
     "name": "stdout",
     "output_type": "stream",
     "text": [
      "AKS\n",
      "AKS\n",
      "AKS\n"
     ]
    }
   ],
   "source": [
    "# Python Functions -- Defining a Function\n",
    "\n",
    "# Functions begin with a 'def' keyword to signify that it is a function\n",
    "# parameters are placed in the parenthesis after the function name\n",
    "\n",
    "def testFunction(parameter1, parameter2): # This function takes in 2 parameters and does not return any values\n",
    "    for i in range(parameter2):\n",
    "        print(parameter1)\n",
    "        \n",
    "testFunction(\"AKS\", 3)"
   ]
  },
  {
   "cell_type": "code",
   "execution_count": 84,
   "metadata": {},
   "outputs": [
    {
     "name": "stdout",
     "output_type": "stream",
     "text": [
      "10 is divisible  by 5.\n"
     ]
    }
   ],
   "source": [
    "# Python Functions -- Defining a Function (example)\n",
    "\n",
    "def isDivisibleBy(num1, num2):\n",
    "    if (num1 % num2 == 0):\n",
    "        return f\"{num1} is divisible by {num2}.\"\n",
    "    \n",
    "    else:\n",
    "        return f\"{num1}is not divisible by {num2}.\"\n",
    "    \n",
    "print(isDivisibleBy(10, 5))"
   ]
  },
  {
   "cell_type": "code",
   "execution_count": 85,
   "metadata": {},
   "outputs": [
    {
     "name": "stdout",
     "output_type": "stream",
     "text": [
      "Safe to cross.\n"
     ]
    }
   ],
   "source": [
    "# Python Functions -- Global & Local Variables (1)\n",
    "\n",
    "\n",
    "def trafficLight(color): # the variable 'color' here is a local variable that can only be accessed inside the function\n",
    "    if color == \"red\":\n",
    "        return \"Stop don't cross\"\n",
    "    elif color == \"yellow\":\n",
    "        return \"Do not cross anymore, light turning Red!\"\n",
    "    elif color == 'green':\n",
    "        return \"Safe to cross.\"\n",
    "    else:\n",
    "        return \"Invalid color.\"\n",
    "    \n",
    "color = 'green' # The variable color here is a Global variable that can be accessed anywhere in the whole program\n",
    "print(trafficLight(color))"
   ]
  },
  {
   "cell_type": "code",
   "execution_count": 89,
   "metadata": {},
   "outputs": [
    {
     "name": "stdout",
     "output_type": "stream",
     "text": [
      "11 = 5 + 6\n"
     ]
    }
   ],
   "source": [
    "# Python Functions -- Global & Local Variables (2)\n",
    "\n",
    "# you can change a local variable to become a global variable by explicitly stating it\n",
    "\n",
    "\n",
    "def testFunc():\n",
    "    global num1, num2 # this statement will change the \n",
    "    num1 = 5\n",
    "    num2 = 6\n",
    "    return num1 + num2\n",
    "\n",
    "print(f\"{testFunc()} = {num1} + {num2}\")"
   ]
  },
  {
   "cell_type": "code",
   "execution_count": 91,
   "metadata": {},
   "outputs": [
    {
     "name": "stdout",
     "output_type": "stream",
     "text": [
      "15\n",
      "-5\n"
     ]
    }
   ],
   "source": [
    "# Python Functions -- Lambda Functions\n",
    "# Small annonymous functions that are defined without a name\n",
    "# Can take in any amount of parameters but can only have 1 expression\n",
    "\n",
    "\n",
    "sum = lambda a : a + 10\n",
    "print(sum(5))\n",
    "\n",
    "difference = lambda a : a - 10\n",
    "print(difference(5))\n",
    "\n",
    "\n",
    "multiply = lambda a, b : a * b\n",
    "print(multiply(5, 6))"
   ]
  },
  {
   "cell_type": "code",
   "execution_count": 93,
   "metadata": {},
   "outputs": [
    {
     "name": "stdout",
     "output_type": "stream",
     "text": [
      "[6, 64, 12, 32]\n"
     ]
    }
   ],
   "source": [
    "# Python Functions -- filter() Function\n",
    "# filter() takes in a function and a list as arguments\n",
    "\n",
    "my_list = [6, 33, 1, 64, 45, 12, 32]\n",
    "new_list = list(filter(lambda x: (x %2 == 0), my_list)) # for each element in my_list, create a new list with the elements if the elements satisfy the conditions in the function\n",
    "print(new_list)"
   ]
  },
  {
   "cell_type": "code",
   "execution_count": 94,
   "metadata": {},
   "outputs": [
    {
     "name": "stdout",
     "output_type": "stream",
     "text": [
      "[1, 4, 9, 16, 25, 36]\n"
     ]
    }
   ],
   "source": [
    "# Python Functions -- map() FunctionWhat \n",
    "\n",
    "# the function is called with all the items in the list and a new list is returned\n",
    "\n",
    "test_list = [1, 2, 3, 4, 5, 6]\n",
    "squared_list = list(map(lambda x: (x*x), test_list))\n",
    "print(squared_list)"
   ]
  },
  {
   "cell_type": "code",
   "execution_count": 96,
   "metadata": {},
   "outputs": [
    {
     "name": "stdout",
     "output_type": "stream",
     "text": [
      "39\n"
     ]
    }
   ],
   "source": [
    "# Python Functions -- reduce() Function\n",
    "# the function is called repeatedly across all the items in the list and a new reduced result is returned.\n",
    "\n",
    "from functools import reduce\n",
    "\n",
    "numbers = [9, 8, 7, 6, 5, 4]\n",
    "\n",
    "reduced_num = reduce((lambda x, y: x + y), numbers)\n",
    "print(reduced_num)"
   ]
  },
  {
   "cell_type": "markdown",
   "metadata": {},
   "source": [
    "## Python Exceptions"
   ]
  },
  {
   "cell_type": "code",
   "execution_count": 98,
   "metadata": {},
   "outputs": [
    {
     "name": "stdout",
     "output_type": "stream",
     "text": [
      "Input a number: aks\n",
      "That is not a number!\n"
     ]
    }
   ],
   "source": [
    "# Python Exceptions -- try-except-finally\n",
    "\n",
    "# Programs should handle exceptions properly\n",
    "# When exceptions occur, current process stops, passes exception to the caller process. If not handled, program will crash\n",
    "\n",
    "try:\n",
    "    num = int(input(\"Input a number: \"))\n",
    "except ValueError:\n",
    "    print(\"That is not a number!\")"
   ]
  },
  {
   "cell_type": "code",
   "execution_count": 101,
   "metadata": {},
   "outputs": [
    {
     "name": "stdout",
     "output_type": "stream",
     "text": [
      "Enter a number: 1.0000022345\n",
      "Pls enter a valid number!\n"
     ]
    }
   ],
   "source": [
    "# Python Exceptions -- try-except-finally Practice\n",
    "\n",
    "try:\n",
    "    x=int(input(\"Enter a number: \"))\n",
    "    print(1/x) #print inverse\n",
    "    \n",
    "except ValueError: #optional\n",
    "    print(\"Pls enter a valid number!\")\n",
    "    \n",
    "except ZeroDivisionError: #optional\n",
    "    print(\"Pls enter a number bigger than 0!\")\n",
    "\n",
    "except:\n",
    "    print(\"Any other exceptions will print this statement.\")\n",
    "\n",
    "finally:\n",
    "    print(\"This strong will always be printed!\")"
   ]
  },
  {
   "cell_type": "markdown",
   "metadata": {},
   "source": [
    "<p>&copy; 2020 angkahshin</p>\n"
   ]
  }
 ],
 "metadata": {
  "kernelspec": {
   "display_name": "Python 3",
   "language": "python",
   "name": "python3"
  },
  "language_info": {
   "codemirror_mode": {
    "name": "ipython",
    "version": 3
   },
   "file_extension": ".py",
   "mimetype": "text/x-python",
   "name": "python",
   "nbconvert_exporter": "python",
   "pygments_lexer": "ipython3",
   "version": "3.7.6"
  }
 },
 "nbformat": 4,
 "nbformat_minor": 4
}
