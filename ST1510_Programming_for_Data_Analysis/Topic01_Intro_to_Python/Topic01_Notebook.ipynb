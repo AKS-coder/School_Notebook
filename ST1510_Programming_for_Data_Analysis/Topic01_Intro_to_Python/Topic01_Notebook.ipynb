{
 "cells": [
  {
   "cell_type": "markdown",
   "metadata": {},
   "source": [
    "# Topic 01: Intro to python"
   ]
  },
  {
   "cell_type": "markdown",
   "metadata": {},
   "source": [
    "## Python Input/Output"
   ]
  },
  {
   "cell_type": "code",
   "execution_count": 38,
   "metadata": {},
   "outputs": [
    {
     "name": "stdout",
     "output_type": "stream",
     "text": [
      "Python-Hello-World\tGoodbye!"
     ]
    }
   ],
   "source": [
    "# Python Output\n",
    "# can use sep to separate words with a string.\n",
    "# use end to add a string to the end of the desired output.\n",
    "print('Python', 'Hello', 'World', sep='-', end='\\tGoodbye!')"
   ]
  },
  {
   "cell_type": "code",
   "execution_count": 4,
   "metadata": {},
   "outputs": [
    {
     "name": "stdout",
     "output_type": "stream",
     "text": [
      "Enter your weight: 76\n",
      "Enter your height: 1.54\n",
      "Height: 1.54\n",
      "Weight: 76\n",
      "BMI: 32.04587620172036\n",
      "BMI(2dp): 32.05\n"
     ]
    }
   ],
   "source": [
    "# Python Input -- Accepting user input, processing and formatting output value\n",
    "# input() value is always captured as a string\n",
    "# Using the format function to specify decimal precision.\n",
    "# BMI Calculator example\n",
    "\n",
    "weight = int(input(\"Enter your weight: \"))\n",
    "height = float(input(\"Enter your height: \"))\n",
    "\n",
    "BMI = weight/(height * height)\n",
    "\n",
    "print('Height: {}\\nWeight: {}\\nBMI: {}'.format(height, weight, BMI))\n",
    "print('BMI(2dp): {:.2f}'.format(BMI))"
   ]
  },
  {
   "cell_type": "code",
   "execution_count": 5,
   "metadata": {},
   "outputs": [
    {
     "name": "stdout",
     "output_type": "stream",
     "text": [
      "Enter your weight(kg): 75\n",
      "Your estimated water mass is: 45.00\n"
     ]
    }
   ],
   "source": [
    "# Python 'F-Strings' -- How to use F-Strings\n",
    "# using 'F-strings' MAKES your life wayyyyy easier\n",
    "# Calculating Water mass\n",
    "\n",
    "weight = float(input(\"Enter your weight(kg): \"))\n",
    "\n",
    "water_mass = weight * 0.6\n",
    "# print(f\"{value:{string_interpolation}{width}.{precision}}\")\n",
    "print(f'Your estimated water mass is: {water_mass:.2f}')"
   ]
  },
  {
   "cell_type": "code",
   "execution_count": 6,
   "metadata": {},
   "outputs": [
    {
     "name": "stdout",
     "output_type": "stream",
     "text": [
      "********Kah Shin*********\n",
      "005\n",
      "Kah Shin_________________\n"
     ]
    }
   ],
   "source": [
    "# Python output -- Different output formatting options\n",
    "# More formatting options\n",
    "\n",
    "name = \"Kah Shin\"\n",
    "num = 5\n",
    "# print(f\"{value:{whatever character you want}{center(^), beginning(>), end(<)}{length of string}}\")\n",
    "print(f'{name:*^25}')\n",
    "print(f\"{num:0>3}\")\n",
    "print(f\"{name:_<25}\")"
   ]
  },
  {
   "cell_type": "code",
   "execution_count": 45,
   "metadata": {},
   "outputs": [
    {
     "name": "stdout",
     "output_type": "stream",
     "text": [
      "3.142857142857143\n",
      "     3.143\n"
     ]
    }
   ],
   "source": [
    "# Python output -- Formatting the width and precision of the output\n",
    "\n",
    "pi = 22/7\n",
    "print(pi)\n",
    "# Syntax: print(f\"{value:[character you want to fill up the string][width of string].[precision in terms of decimal place]}\")\n",
    "print(f\"{pi:10.4}\")"
   ]
  },
  {
   "cell_type": "markdown",
   "metadata": {},
   "source": [
    "## Python Modules"
   ]
  },
  {
   "cell_type": "code",
   "execution_count": 7,
   "metadata": {},
   "outputs": [
    {
     "name": "stdout",
     "output_type": "stream",
     "text": [
      "2020-10-19 10:13:55.199142\n",
      "Today is 19-Oct-2020 10:13\n"
     ]
    }
   ],
   "source": [
    "# Python Modules -- Import Statements\n",
    "# importing datetime module\n",
    "\n",
    "from datetime import datetime\n",
    "now = datetime.now()\n",
    "print(now)\n",
    "# %d represents the day, %b the month and so on...\n",
    "print(f\"Today is {now:%d-%b-%Y %H:%M}\")"
   ]
  },
  {
   "cell_type": "code",
   "execution_count": 8,
   "metadata": {},
   "outputs": [
    {
     "name": "stdout",
     "output_type": "stream",
     "text": [
      "Hello\n",
      "World!\n"
     ]
    }
   ],
   "source": [
    "# Python Modules -- Import Statements\n",
    "# importing the time module\n",
    "\n",
    "from time import sleep\n",
    "print(\"Hello\")\n",
    "# The sleep function from the time module takes in a duration variable in terms of mili-seconds\n",
    "# and stops the compiler for the given duration before continuing to execute the code below.\n",
    "sleep(5)\n",
    "print(\"World!\")"
   ]
  },
  {
   "cell_type": "code",
   "execution_count": 9,
   "metadata": {},
   "outputs": [
    {
     "name": "stdout",
     "output_type": "stream",
     "text": [
      "Enter your name in the quickest amount of time!\n",
      "> Kah Shin\n",
      "You took 1.698 seconds.\n"
     ]
    }
   ],
   "source": [
    "# Python Modules -- Using time module\n",
    "# Calculate time elapsed between 2 timings\n",
    "import time\n",
    "print('Enter your name in the quickest amount of time!')\n",
    "time.sleep(2)\n",
    "start = time.time()\n",
    "name = input('> ')\n",
    "time_taken = time.time() - start\n",
    "print(f\"You took {time_taken:.3f} seconds.\")"
   ]
  },
  {
   "cell_type": "code",
   "execution_count": 10,
   "metadata": {},
   "outputs": [
    {
     "name": "stdout",
     "output_type": "stream",
     "text": [
      "It's been 17 years, 5 months and 19 days since you were borned.\n"
     ]
    }
   ],
   "source": [
    "# Python Module -- Using datetime and dateutil module\n",
    "# Calculating number of years, months, days, between 2 dates\n",
    "\n",
    "from datetime import datetime\n",
    "from dateutil import relativedelta as rdelta\n",
    "\n",
    "date_of_birth = \"30-04-2003\"\n",
    "# convert to proper datetime format\n",
    "date_of_birth = datetime.strptime(date_of_birth, '%d-%m-%Y')\n",
    "today = datetime.now()\n",
    "# calculate the difference\n",
    "rd = rdelta.relativedelta(today, date_of_birth)\n",
    "print(f\"It's been {rd.years} years, {rd.months} months and {rd.days} days since you were borned.\")"
   ]
  },
  {
   "cell_type": "code",
   "execution_count": 11,
   "metadata": {},
   "outputs": [],
   "source": [
    "# Python Module -- Using zipfile module\n",
    "# zipping files within the directory with zipfile\n",
    "from zipfile import ZipFile\n"
   ]
  },
  {
   "cell_type": "markdown",
   "metadata": {},
   "source": [
    "## Python Data Types"
   ]
  },
  {
   "cell_type": "code",
   "execution_count": 12,
   "metadata": {},
   "outputs": [
    {
     "name": "stdout",
     "output_type": "stream",
     "text": [
      "16\n",
      "0.25\n",
      "2\n",
      "256\n",
      "3.5\n"
     ]
    }
   ],
   "source": [
    "# python Data-Types -- numeric data types\n",
    "# python have 3 numeric types: integers(int), floats(float), complex numbers\n",
    "x = 2\n",
    "y = 8\n",
    "z = 3.459\n",
    "print(x*y)    # product of x and y output: 16\n",
    "print(x/y)    # quotient of x and y output: 0.25\n",
    "print(x % y)  # remainder of  x divided by y output: 2\n",
    "print(x**y)  # x to the power of y output: 256\n",
    "print(round(z,1))   # z rounded to 1 decimal place output: 3.5\n"
   ]
  },
  {
   "cell_type": "code",
   "execution_count": 13,
   "metadata": {},
   "outputs": [
    {
     "name": "stdout",
     "output_type": "stream",
     "text": [
      "False\n",
      "54\n",
      "55\n",
      "54\n",
      "7.372700455057156\n"
     ]
    }
   ],
   "source": [
    "# Python Data-Types -- Working with numeric data\n",
    "import math\n",
    "\n",
    "x = 54.356712\n",
    "# returns True if variable is not a number\n",
    "print(math.isnan(x))\n",
    "# Truncate decimal portion\n",
    "print(math.trunc(x))\n",
    "# round up the value regardless of decimal place except 0\n",
    "print(math.ceil(x))\n",
    "# Round down the value regardless of the decimal place except 0\n",
    "print(math.floor(x))\n",
    "# Square root the variable\n",
    "print(math.sqrt(x))"
   ]
  },
  {
   "cell_type": "code",
   "execution_count": 14,
   "metadata": {},
   "outputs": [
    {
     "name": "stdout",
     "output_type": "stream",
     "text": [
      "H\n",
      "Hello\n",
      "World\n",
      "11\n"
     ]
    }
   ],
   "source": [
    "# Python Data-Types -- Working with string data\n",
    "# String-Indexing\n",
    "\n",
    "string = \"Hello World\"\n",
    "# prints the specific character at the particular index position in the string\n",
    "print(string[0])\n",
    "# prints all the characters from the start up to the index specified\n",
    "print(string[:5])\n",
    "# prints all the characters from the given index to the end of the string\n",
    "print(string[6:])\n",
    "# prints the length of the string\n",
    "print(len(string))"
   ]
  },
  {
   "cell_type": "code",
   "execution_count": 15,
   "metadata": {},
   "outputs": [
    {
     "name": "stdout",
     "output_type": "stream",
     "text": [
      "Hello World, AKS\n"
     ]
    }
   ],
   "source": [
    "# Python Data-Types -- Working with string data\n",
    "# String-Concatination\n",
    "\n",
    "string = \"Hello World\"\n",
    "name = \"AKS\"\n",
    "# The plus operator acts as a concatinator to concatenate all the individual strings together\n",
    "print(string + \", \" + name)"
   ]
  },
  {
   "cell_type": "code",
   "execution_count": 16,
   "metadata": {},
   "outputs": [
    {
     "name": "stdout",
     "output_type": "stream",
     "text": [
      "Hello World\n",
      "Hello World\n",
      "Hello World\n",
      "\n"
     ]
    }
   ],
   "source": [
    "# Python Data-Types -- Working with string data\n",
    "# Repeating a string with *\n",
    "\n",
    "amnt = 3\n",
    "string = \"Hello World\\n\"\n",
    "# repeat the string by (amnt) time \n",
    "print(string*amnt)"
   ]
  },
  {
   "cell_type": "code",
   "execution_count": 17,
   "metadata": {},
   "outputs": [
    {
     "name": "stdout",
     "output_type": "stream",
     "text": [
      "The value of pi: 3.142857142857143\n"
     ]
    }
   ],
   "source": [
    "# Python Data-Types -- Working with string data\n",
    "# Concatinating string and numeric values\n",
    "\n",
    "pi = 22/7\n",
    "\n",
    "print(\"The value of pi: \" + str(pi))"
   ]
  },
  {
   "cell_type": "code",
   "execution_count": 18,
   "metadata": {},
   "outputs": [
    {
     "name": "stdout",
     "output_type": "stream",
     "text": [
      "HELLO THERE! I AM AKS\n",
      "hello there! i am aks\n",
      "False\n"
     ]
    }
   ],
   "source": [
    "# Python Data-Types -- Working with string data\n",
    "# Changing the string to Upper/Lower case\n",
    "\n",
    "text = \"Hello there! I am AKS\"\n",
    "# prints the text in upper case\n",
    "print(text.upper())\n",
    "# prints the text in lower case\n",
    "print(text.lower())\n",
    "# returns true if value is numeric\n",
    "print(text.isnumeric())"
   ]
  },
  {
   "cell_type": "code",
   "execution_count": 19,
   "metadata": {},
   "outputs": [
    {
     "name": "stdout",
     "output_type": "stream",
     "text": [
      "18\n",
      "-1\n"
     ]
    }
   ],
   "source": [
    "# Python Data-Types -- Working with string data\n",
    "# Finding if a particular sub-string exists in a string\n",
    "\n",
    "string = \"Hello, my name is AKS\"\n",
    "sub_string = \"AKS\"\n",
    "# if sub-string is found in the string, it will return the starting index of the substring\n",
    "print(string.find(sub_string))\n",
    "# returns a value of -1 if the sub-string does not exist in the string\n",
    "print(string.find(\"LOL\"))"
   ]
  },
  {
   "cell_type": "code",
   "execution_count": 20,
   "metadata": {},
   "outputs": [
    {
     "name": "stdout",
     "output_type": "stream",
     "text": [
      "['Hello', 'there!', 'I', 'am', 'AKS']\n",
      "['H', 'llo th', 'r', '! I am AKS']\n"
     ]
    }
   ],
   "source": [
    "# Python Data-Types -- Working with string data\n",
    "# Splitting a string into substrings\n",
    "\n",
    "string = \"Hello there! I am AKS\"\n",
    "# .split() function seperates each word in the string and places it into a list\n",
    "print(string.split())\n",
    "# .split() with a separator will split the string with the particular value as the separator.\n",
    "print(string.split(sep='e'))"
   ]
  },
  {
   "cell_type": "markdown",
   "metadata": {},
   "source": [
    "## Python Operators"
   ]
  },
  {
   "cell_type": "code",
   "execution_count": 21,
   "metadata": {},
   "outputs": [
    {
     "name": "stdout",
     "output_type": "stream",
     "text": [
      "90\n",
      "22\n",
      "1904\n",
      "1.6470588235294117\n",
      "22\n",
      "274405567216138790463155698772664096245962311983760614096896\n",
      "1\n"
     ]
    }
   ],
   "source": [
    "# Python Operators -- Types of Operators\n",
    "# 1. Arithmetic Operators\n",
    "\n",
    "num1 = 56\n",
    "num2 = 34\n",
    "\n",
    "# prints the sum of num1 and num2\n",
    "print(num1 + num2)\n",
    "# prints the difference between num1 and num2\n",
    "print(num1 - num2)\n",
    "# multiples num1 by num2\n",
    "print(num1 * num2)\n",
    "# divides num1 by num2\n",
    "print(num1 / num2)\n",
    "# prints the remainder after dividing num1 by num2\n",
    "print(num1 % num2)\n",
    "# prints the value of num1 to the power of num2\n",
    "print(num1 ** num2)\n",
    "# divides num1 by num2 and discards any decimal point in the answer\n",
    "print(num1 // num2)"
   ]
  },
  {
   "cell_type": "code",
   "execution_count": 22,
   "metadata": {},
   "outputs": [
    {
     "name": "stdout",
     "output_type": "stream",
     "text": [
      "John, 12, EDP\n"
     ]
    }
   ],
   "source": [
    "# Python Operators -- Types of Operators\n",
    "# 2. Assignment Operators\n",
    "\n",
    "# Assigning the value of 100 to variable x\n",
    "x = 100\n",
    "# Assigning the value \"john\" to the variable person\n",
    "person = \"john\"\n",
    "\n",
    "# python allows for multiple variable assignment in a single line\n",
    "name,age,school = \"John\", 12, \"EDP\"\n",
    "\n",
    "print(f\"{name}, {age}, {school}\")\n",
    "\n"
   ]
  },
  {
   "cell_type": "code",
   "execution_count": 23,
   "metadata": {},
   "outputs": [
    {
     "name": "stdout",
     "output_type": "stream",
     "text": [
      "a:  11\n",
      "b:  -8\n",
      "c:  30\n",
      "d:  0.4\n",
      "e:  5\n"
     ]
    }
   ],
   "source": [
    "# Python Operators -- Types of Operators\n",
    "# 2. Assignment Operators(continue from previous cell)\n",
    "\n",
    "# Python also have Compound operators that allow 'shortcuts'\n",
    "\n",
    "a,b,c,d,e = 1,2,3,4,5\n",
    "x = 10\n",
    "\n",
    "# the operator a += x is equivalent to a = a + x\n",
    "a += x\n",
    "print('a: ', a)\n",
    "\n",
    "# the operator b -= x is equivalent to b = b - x\n",
    "b -= x\n",
    "print('b: ', b)\n",
    "\n",
    "# the operator *= is equivalent to c = c * x\n",
    "c *= x\n",
    "print('c: ', c)\n",
    "\n",
    "# the operator /= is equivalent to d = d / x\n",
    "d /= x\n",
    "print('d: ', d)\n",
    "\n",
    "# the operator %= is equivalent to e = e % x\n",
    "e %= x\n",
    "print('e: ', e)"
   ]
  },
  {
   "cell_type": "code",
   "execution_count": 24,
   "metadata": {},
   "outputs": [
    {
     "name": "stdout",
     "output_type": "stream",
     "text": [
      "False\n",
      "True\n",
      "False\n",
      "False\n",
      "True\n",
      "True\n"
     ]
    }
   ],
   "source": [
    "# Python Operators -- Types of Operators\n",
    "# 3. Comparison Operators\n",
    "\n",
    "num1 = 10\n",
    "num2 = 20\n",
    "\n",
    "# returns True if num1 is equivalent to num2\n",
    "print(num1 == num2)\n",
    "\n",
    "# returns True if num1 is not equivalent to num2\n",
    "print(num1 != num2)\n",
    "\n",
    "# returns True if num1 is more than num2\n",
    "print(num1 > num2)\n",
    "\n",
    "# returns True if num1 is more than or equals to num2\n",
    "print(num1 >= num2)\n",
    "\n",
    "# returns True if num1 is lesser than num2\n",
    "print(num1 < num2)\n",
    "\n",
    "# returns True if num1 is lesser than or equals to num2\n",
    "print(num1 <= num2)"
   ]
  },
  {
   "cell_type": "code",
   "execution_count": 25,
   "metadata": {},
   "outputs": [
    {
     "name": "stdout",
     "output_type": "stream",
     "text": [
      "True\n",
      "True\n",
      "False\n",
      "False\n",
      "True\n",
      "True\n",
      "False\n",
      "True\n"
     ]
    }
   ],
   "source": [
    "# Python Operators -- Types of Operators\n",
    "#  4. Logical Operators\n",
    "\n",
    "num1 = 30\n",
    "num2 = 50\n",
    "name1 = \"Gary\"\n",
    "name2 = \"Emma\"\n",
    "\n",
    "# the 'and' and 'or' operators functions like the Logic */+. Hence 'and(*)', 'or(+)'\n",
    "\n",
    "print(num1 and num2 >= 10)\n",
    "print(num1 >= 10 and num2 >= 40)\n",
    "print(num1 and num2 >= 60)\n",
    "print(num1 >= 10 and num2 >= 60)\n",
    "\n",
    "print(num1 >= 10 or num2 >= 40)\n",
    "print(num1 >= 10 or num2 >= 60)\n",
    "\n",
    "# the 'not' operator basically inverts the outcome. if the outcome is True, it will output False. vice versa\n",
    "\n",
    "print(num1 == num2)\n",
    "print(not num1 == num2)"
   ]
  },
  {
   "cell_type": "code",
   "execution_count": 26,
   "metadata": {},
   "outputs": [
    {
     "name": "stdout",
     "output_type": "stream",
     "text": [
      "True\n",
      "False\n",
      "False\n"
     ]
    }
   ],
   "source": [
    "# Python Operators -- Types of Operators\n",
    "#  5. Membership Operators\n",
    "\n",
    "# used to test for membership in a sequence\n",
    "nameList = ['Aaron', 'John', 'Teddy']\n",
    "\n",
    "# returns True if the particular value is in the list\n",
    "print('Teddy' in nameList)\n",
    "print('AKS' in nameList)\n",
    "print('Teddy' not in nameList)"
   ]
  },
  {
   "cell_type": "code",
   "execution_count": 27,
   "metadata": {},
   "outputs": [
    {
     "name": "stdout",
     "output_type": "stream",
     "text": [
      "False\n",
      "True\n",
      "True\n",
      "True\n"
     ]
    }
   ],
   "source": [
    "# Python Operators -- Types of Operators\n",
    "#  6. Identity Operators\n",
    "\n",
    "# Identity operators compare the memory locations of the 2 objects\n",
    "a = 'AKS'\n",
    "b = 'Teddy'\n",
    "c = 'Kennedy'\n",
    "\n",
    "print(a is b)\n",
    "print(a is not b)\n",
    "print(a is 'AKS')\n",
    "print('Kennedy' is c)"
   ]
  },
  {
   "cell_type": "markdown",
   "metadata": {},
   "source": [
    "## Python If-Else Statements"
   ]
  },
  {
   "cell_type": "code",
   "execution_count": 28,
   "metadata": {},
   "outputs": [
    {
     "name": "stdout",
     "output_type": "stream",
     "text": [
      "1 is not equals to 2.\n"
     ]
    }
   ],
   "source": [
    "# Python if-else statements -- Conditional programming\n",
    "#  Basic if-else statements\n",
    "\n",
    "num1 = 1\n",
    "num2 = 2\n",
    "\n",
    "if num1 == num2:\n",
    "    print(f'{num1} = {num2}.')\n",
    "else:\n",
    "    print(f'{num1} is not equals to {num2}.')"
   ]
  },
  {
   "cell_type": "code",
   "execution_count": 29,
   "metadata": {},
   "outputs": [
    {
     "name": "stdout",
     "output_type": "stream",
     "text": [
      "Choose your drink:\n",
      "1. Coke\n",
      "2. Orange Juice\n",
      "3. Coffee\n",
      "> \n",
      "Please input a valid selection!\n"
     ]
    }
   ],
   "source": [
    "# Python if-else statements -- Conditional programming\n",
    "# adding 'elif' statements in between 'if' and 'else' statements will allow for multiple conditional checking\n",
    "\n",
    "print(\"Choose your drink:\\n1. Coke\\n2. Orange Juice\\n3. Coffee\")\n",
    "choice = input(\"> \")\n",
    "\n",
    "if (choice == '1'):\n",
    "    print(\"Coke is $1.00\")\n",
    "elif (choice == '2'):\n",
    "    print(\"Orange Juice is $1.80\")\n",
    "elif (choice == '3'):\n",
    "    print(\"Coffee is $1.20\")\n",
    "else:\n",
    "    print(\"Please input a valid selection!\")\n",
    "    "
   ]
  },
  {
   "cell_type": "code",
   "execution_count": 30,
   "metadata": {},
   "outputs": [
    {
     "name": "stdout",
     "output_type": "stream",
     "text": [
      "Choose your food:\n",
      "1. Cake\n",
      "2. Puree\n",
      "3. Jelly\n",
      "> 2\n",
      "Puree is $1.80\n",
      "Do you want to buy?(y/n): y\n",
      "Successfully purchased a tube of Puree for $1.80\n"
     ]
    }
   ],
   "source": [
    "# Python if-else statements -- Conditional programming\n",
    "# Nested if-else blocks -- adding an if-else block inside an if-else block\n",
    "\n",
    "print(\"Choose your food:\\n1. Cake\\n2. Puree\\n3. Jelly\")\n",
    "choice = input(\"> \")\n",
    "\n",
    "if (choice == '1'):\n",
    "    \n",
    "    print(\"Cake is $1.00\")\n",
    "    pay = input(\"Do you want to buy?(y/n): \")\n",
    "    if (pay == \"y\"):\n",
    "        print(f\"Successfully purchased a slice of Cake for $1.00\")\n",
    "    else:\n",
    "        print(\"Transaction failed\")\n",
    "        \n",
    "elif (choice == '2'):\n",
    "    \n",
    "    print(\"Puree is $1.80\")\n",
    "    pay = input(\"Do you want to buy?(y/n): \")\n",
    "    if (pay == \"y\"):\n",
    "        print(f\"Successfully purchased a tube of Puree for $1.80\")\n",
    "    else:\n",
    "        print(\"Transaction failed\")\n",
    "        \n",
    "elif (choice == '3'):\n",
    "    \n",
    "    print(\"Jelly is $1.20\")\n",
    "    pay = input(\"Do you want to buy?(y/n): \")\n",
    "    if (pay == \"y\"):\n",
    "        print(f\"Successfully purchased a piece of Jelly for $1.20\")\n",
    "    else:\n",
    "        print(\"Transaction failed\")\n",
    "        \n",
    "else:\n",
    "    print(\"Please input a valid selection!\")"
   ]
  },
  {
   "cell_type": "markdown",
   "metadata": {},
   "source": [
    "## Python Loops\n"
   ]
  },
  {
   "cell_type": "code",
   "execution_count": 31,
   "metadata": {},
   "outputs": [
    {
     "name": "stdout",
     "output_type": "stream",
     "text": [
      "Banana\n",
      "Watermelon\n",
      "Apple\n",
      "Orange\n",
      "Strawberry\n"
     ]
    }
   ],
   "source": [
    "# Python Loops -- Loop Control\n",
    "# Using 'for' loop\n",
    "\n",
    "fruit_list = ['Banana', 'Watermelon', 'Apple', 'Orange', 'Strawberry']\n",
    "\n",
    "for fruit in fruit_list:\n",
    "    print(fruit)\n",
    "    \n"
   ]
  },
  {
   "cell_type": "code",
   "execution_count": 32,
   "metadata": {},
   "outputs": [
    {
     "name": "stdout",
     "output_type": "stream",
     "text": [
      "Mary is not in the company.\n"
     ]
    }
   ],
   "source": [
    "# Python Loops -- Loop Control\n",
    "#  Adding an 'else' after the for-loop\n",
    "\n",
    "company = ['Aaron', 'Jett', 'Vick', 'Richard',]\n",
    "\n",
    "for person in company:\n",
    "    if (person == 'Mary'):\n",
    "        print(\"Mary is in the company\")\n",
    "        break\n",
    "else:\n",
    "    print(\"Mary is not in the company.\")"
   ]
  },
  {
   "cell_type": "code",
   "execution_count": 33,
   "metadata": {},
   "outputs": [
    {
     "name": "stdout",
     "output_type": "stream",
     "text": [
      "1\n",
      "2\n",
      "3\n",
      "4\n",
      "5\n"
     ]
    }
   ],
   "source": [
    "# Python Loops -- Loop Control\n",
    "#  range() function with for-loop\n",
    "\n",
    "# syntax: range({start}, {stop})\n",
    "for index in range(1, 6):\n",
    "    print(index)"
   ]
  },
  {
   "cell_type": "code",
   "execution_count": 34,
   "metadata": {},
   "outputs": [
    {
     "name": "stdout",
     "output_type": "stream",
     "text": [
      "Round 1/10.\n",
      "Round 2/10.\n",
      "Round 3/10.\n",
      "Round 4/10.\n",
      "Round 5/10.\n",
      "Round 6/10.\n",
      "Round 7/10.\n",
      "Round 8/10.\n",
      "Round 9/10.\n",
      "Round 10/10.\n",
      "Rounds ended.\n"
     ]
    }
   ],
   "source": [
    "# Python Loops -- Loop Control\n",
    "#  Using 'While' Loop\n",
    "\n",
    "# Used to iterate through a block of code till a condition is met.\n",
    "\n",
    "rounds = 1\n",
    "\n",
    "while (rounds < 11):\n",
    "    print(f\"Round {rounds}/10.\")\n",
    "    rounds += 1\n",
    "    \n",
    "print(\"Rounds ended.\")"
   ]
  },
  {
   "cell_type": "code",
   "execution_count": 35,
   "metadata": {},
   "outputs": [
    {
     "name": "stdout",
     "output_type": "stream",
     "text": [
      "Enter the password: password\n",
      "Incorrect password, please try again.\n",
      "Enter the password: secret\n",
      "Successfully unlocked the loop!\n"
     ]
    }
   ],
   "source": [
    "# Python Loops -- Loop Control\n",
    "# Password checker example for 'while' Loop\n",
    "\n",
    "password = ''\n",
    "while password != 'secret':\n",
    "    password = input(\"Enter the password: \")\n",
    "    if password == \"secret\":\n",
    "        print(\"Successfully unlocked the loop!\")\n",
    "        break\n",
    "    else:\n",
    "        print(\"Incorrect password, please try again.\")\n",
    "        \n",
    "    "
   ]
  },
  {
   "cell_type": "markdown",
   "metadata": {},
   "source": [
    "## Python Additional Resources"
   ]
  },
  {
   "cell_type": "code",
   "execution_count": 36,
   "metadata": {},
   "outputs": [
    {
     "name": "stdout",
     "output_type": "stream",
     "text": [
      "The lucky link you have is: https://developers.google.com/edu/python/\n"
     ]
    }
   ],
   "source": [
    "# Random tutorial/reference website link generator\n",
    "\n",
    "import random\n",
    "\n",
    "tutorial_links = [\n",
    "    'https://docs.python.org/3/library/',\n",
    "    'https://docs.python.org/3/tutorial',\n",
    "    'https://www.tutorialspoint.com/python',\n",
    "    'http://www.practicepython.org/',\n",
    "    'https://www.learnpython.org',\n",
    "    'https://www.w3resource.com/python/python-tutorial.php',\n",
    "    'https://pythonschool.net/',\n",
    "    'https://developers.google.com/edu/python/',\n",
    "    'https://chrisalbon.com/python',\n",
    "    'http://pbpython.com/',\n",
    "    'https://www.pythonforbeginners.com',\n",
    "    'https://www.programiz.com/python-programming',\n",
    "    'https://www.pythoncentral.io',\n",
    "    'https://learnpythonthehardway.org',\n",
    "    'http://codingbat.com/python',\n",
    "    'https://stackoverflow.com/questions/tagged/python',\n",
    "    'https://pyformat.info/'\n",
    "]\n",
    "\n",
    "random_num = random.randint(0, len(tutorial_links))\n",
    "print(f\"The lucky link you have is: {tutorial_links[random_num]}\")"
   ]
  },
  {
   "cell_type": "markdown",
   "metadata": {},
   "source": [
    "<p>&copy; 2020 angkahshin</p>"
   ]
  }
 ],
 "metadata": {
  "kernelspec": {
   "display_name": "Python 3",
   "language": "python",
   "name": "python3"
  },
  "language_info": {
   "codemirror_mode": {
    "name": "ipython",
    "version": 3
   },
   "file_extension": ".py",
   "mimetype": "text/x-python",
   "name": "python",
   "nbconvert_exporter": "python",
   "pygments_lexer": "ipython3",
   "version": "3.7.6"
  }
 },
 "nbformat": 4,
 "nbformat_minor": 4
}
